{
 "cells": [
  {
   "cell_type": "markdown",
   "metadata": {},
   "source": [
    "![banner](../img/cdips_2017_logo.png)"
   ]
  },
  {
   "cell_type": "markdown",
   "metadata": {},
   "source": [
    "# Loading, Visualizing, and Exploring the Data"
   ]
  },
  {
   "cell_type": "markdown",
   "metadata": {},
   "source": [
    "This notebook will help you start \n",
    "to explore the soil spectral data\n",
    "through [pandas](https://pandas.pydata.org/pandas-docs/stable/), \n",
    "[seaborn](http://seaborn.pydata.org/index.html), \n",
    "and [matplotlib](https://matplotlib.org/index.html).\n",
    "\n",
    "All of these packages are well-documented and\n",
    "easy-to-use, so they make for great tools\n",
    "to use when first looking at data.\n",
    "\n",
    "A good resource for learning pandas \n",
    "can be found [here](https://github.com/brandon-rhodes/pycon-pandas-tutorial)."
   ]
  },
  {
   "cell_type": "code",
   "execution_count": null,
   "metadata": {
    "collapsed": true
   },
   "outputs": [],
   "source": [
    "import matplotlib.pyplot as plt\n",
    "import pandas as pd\n",
    "import sklearn as skl\n",
    "import numpy as np\n",
    "\n",
    "import seaborn as sns\n",
    "sns.set(font_scale=2)\n",
    "\n",
    "%matplotlib inline"
   ]
  },
  {
   "cell_type": "markdown",
   "metadata": {},
   "source": [
    "#### Load the data and view the first few columns\n",
    "\n",
    "Pandas can read the contents of a csv file\n",
    "directly into a pandas dataframe, just tell\n",
    "it where to find the file."
   ]
  },
  {
   "cell_type": "code",
   "execution_count": null,
   "metadata": {
    "collapsed": true
   },
   "outputs": [],
   "source": [
    "data = pd.read_csv('../data/training.csv')\n",
    "\n",
    "data.head()"
   ]
  },
  {
   "cell_type": "markdown",
   "metadata": {},
   "source": [
    "#### View some randomly chosen columns"
   ]
  },
  {
   "cell_type": "code",
   "execution_count": null,
   "metadata": {
    "collapsed": true
   },
   "outputs": [],
   "source": [
    "data.sample(5)"
   ]
  },
  {
   "cell_type": "markdown",
   "metadata": {},
   "source": [
    "#### List the columns"
   ]
  },
  {
   "cell_type": "code",
   "execution_count": null,
   "metadata": {
    "collapsed": true
   },
   "outputs": [],
   "source": [
    "data.columns"
   ]
  },
  {
   "cell_type": "markdown",
   "metadata": {},
   "source": [
    "#### Pickout the output variables and look at their descriptive statistics\n",
    "\n",
    "There are a lot of built-in features that can be used to\n",
    "explore a pandas dataframe. \n",
    "\n",
    "`describe()` is great\n",
    "for a quick look at some standard statistics\n",
    "quantities."
   ]
  },
  {
   "cell_type": "code",
   "execution_count": null,
   "metadata": {
    "collapsed": true
   },
   "outputs": [],
   "source": [
    "output_variables = [\"Ca\",\"P\",\"pH\",\"SOC\",\"Sand\"]\n",
    "\n",
    "data[output_variables].describe()"
   ]
  },
  {
   "cell_type": "markdown",
   "metadata": {},
   "source": [
    "#### Visualize marginal and pairwise distribution of outputs\n",
    "\n",
    "Seaborn is a python visualization library that\n",
    "allows you to create statistical plots with\n",
    "ease.  \n",
    "\n",
    "`pairplot` creates a\n",
    "grid of pairwise distributions in just a single line!"
   ]
  },
  {
   "cell_type": "code",
   "execution_count": null,
   "metadata": {
    "collapsed": true,
    "scrolled": false
   },
   "outputs": [],
   "source": [
    "sns.pairplot(data=data,\n",
    "                vars=output_variables,\n",
    "            plot_kws={'alpha':0.01,'s':144},\n",
    "            diag_kind='kde');\n",
    "\n",
    "plt.suptitle('Pairwise Relationships for '+ ', '.join(output_variables),\n",
    "            fontsize=36,fontweight='bold',y=1.05\n",
    "            );"
   ]
  },
  {
   "cell_type": "markdown",
   "metadata": {},
   "source": [
    "#### Select and Plot a Random Spectrum\n",
    "\n",
    "While seaborn is good for visualizing statistics,\n",
    "matplotlib is still the go-to standard\n",
    "for general plotting.  Let's plot the spectrum\n",
    "for one of our samples."
   ]
  },
  {
   "cell_type": "code",
   "execution_count": null,
   "metadata": {
    "collapsed": true
   },
   "outputs": [],
   "source": [
    "data_columns = [column for column in data.columns if column.startswith('m')]\n",
    "wavenumbers = [float(column.lstrip('m')) for column in data_columns]"
   ]
  },
  {
   "cell_type": "code",
   "execution_count": null,
   "metadata": {
    "collapsed": true
   },
   "outputs": [],
   "source": [
    "random_data_point = data.sample(1)\n",
    "random_data_point"
   ]
  },
  {
   "cell_type": "code",
   "execution_count": null,
   "metadata": {
    "collapsed": true
   },
   "outputs": [],
   "source": [
    "spectrum_as_dataframe = random_data_point[data_columns]\n",
    "\n",
    "spectrum_as_series = spectrum_as_dataframe.iloc[0]\n",
    "PIDN = random_data_point['PIDN'].iloc[0]\n",
    "spectrum_array = spectrum_as_series.as_matrix()\n",
    "numericID = spectrum_as_series.name\n",
    "\n",
    "plt.figure(figsize=(16,4))\n",
    "plt.plot(wavenumbers,spectrum_array); plt.title(PIDN+': '+str(numericID), \n",
    "                                    fontweight='bold',fontsize='xx-large');\n",
    "plt.xlabel('wavenumber',fontweight='bold',fontsize='x-large');\n",
    "plt.ylabel('measurement',fontweight='bold',fontsize='x-large');"
   ]
  },
  {
   "cell_type": "markdown",
   "metadata": {},
   "source": [
    "#### Plot Average Spectrum +/- 1 SD"
   ]
  },
  {
   "cell_type": "markdown",
   "metadata": {},
   "source": [
    "First we grab the descriptive stats using `.describe()`, then we use the `mean`s and `std`s to build an `errorbar` plot.\n",
    "\n",
    "One possible alteration would be to use the median (`50%`) and quartile values (`25%` and `75%`) instead. I suspect we might get a different picture, especially of the variability."
   ]
  },
  {
   "cell_type": "code",
   "execution_count": null,
   "metadata": {
    "collapsed": true
   },
   "outputs": [],
   "source": [
    "all_spectra_dataframe = data[data_columns]"
   ]
  },
  {
   "cell_type": "code",
   "execution_count": null,
   "metadata": {
    "collapsed": true
   },
   "outputs": [],
   "source": [
    "stats = all_spectra_dataframe.describe()\n",
    "\n",
    "stats"
   ]
  },
  {
   "cell_type": "code",
   "execution_count": null,
   "metadata": {
    "collapsed": true
   },
   "outputs": [],
   "source": [
    "average_values = stats.loc['mean'].as_matrix()\n",
    "sds = stats.loc['std'].as_matrix()"
   ]
  },
  {
   "cell_type": "code",
   "execution_count": null,
   "metadata": {
    "collapsed": true
   },
   "outputs": [],
   "source": [
    "plt.figure(figsize=(16,4))\n",
    "\n",
    "plt.errorbar(x=wavenumbers,y=average_values,yerr=sds,\n",
    "            errorevery=1,ecolor='k',color='w',alpha=0.01,zorder=1,\n",
    "            label='±SD');\n",
    "\n",
    "plt.plot(wavenumbers,average_values,color='chartreuse',\n",
    "         linewidth=2,zorder=1,label='average'\n",
    "        );\n",
    "\n",
    "plt.legend()\n",
    "plt.title('Average Spectrum', fontweight='bold',fontsize='xx-large');\n",
    "\n",
    "plt.xlabel('wavenumber',fontweight='bold',fontsize='x-large');\n",
    "plt.ylabel('measurement',fontweight='bold',fontsize='x-large');"
   ]
  },
  {
   "cell_type": "markdown",
   "metadata": {},
   "source": [
    "#### SNR by Wavenumber"
   ]
  },
  {
   "cell_type": "code",
   "execution_count": null,
   "metadata": {
    "collapsed": true
   },
   "outputs": [],
   "source": [
    "plt.figure(figsize=(16,4))\n",
    "\n",
    "plt.plot(wavenumbers,\n",
    "         #np.square(sds),\n",
    "         np.divide(np.square(sds),\n",
    "                            average_values),\n",
    "         color='chartreuse',\n",
    "         linewidth=2,zorder=1,\n",
    "        );\n",
    "\n",
    "plt.title('SNR by Wavenumber', fontweight='bold',fontsize='xx-large');\n",
    "\n",
    "plt.xlabel('wavenumber',fontweight='bold',fontsize='x-large');\n",
    "plt.ylabel('Variance',fontweight='bold',fontsize='x-large');"
   ]
  }
 ],
 "metadata": {
  "kernelspec": {
   "display_name": "Python 3",
   "language": "python",
   "name": "python3"
  },
  "language_info": {
   "codemirror_mode": {
    "name": "ipython",
    "version": 3
   },
   "file_extension": ".py",
   "mimetype": "text/x-python",
   "name": "python",
   "nbconvert_exporter": "python",
   "pygments_lexer": "ipython3",
   "version": "3.6.1"
  }
 },
 "nbformat": 4,
 "nbformat_minor": 2
}

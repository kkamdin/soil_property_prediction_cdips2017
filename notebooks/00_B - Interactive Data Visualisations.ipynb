{
 "cells": [
  {
   "cell_type": "markdown",
   "metadata": {},
   "source": [
    "![banner](../img/cdips_2017_logo.png)"
   ]
  },
  {
   "cell_type": "markdown",
   "metadata": {},
   "source": [
    "# Explore Data with Interactive visualizations"
   ]
  },
  {
   "cell_type": "markdown",
   "metadata": {},
   "source": [
    "## Interactivity helps build intuition\n",
    "\n",
    "The purpose of this notebook is twofold.\n",
    "\n",
    "First is to provide an easy, intuitive way\n",
    "for users to take a preliminary look at the \n",
    "data.  An interactive widget will help a user\n",
    "to quickly see the effect input changes\n",
    "will have on results, without being an expert\n",
    "in python, pandas, or matplotlib.\n",
    "\n",
    "Second is to provide some preliminary\n",
    "examples based on the data so that anyone\n",
    "can adjust the code to build an interaction\n",
    "specific to their needs."
   ]
  },
  {
   "cell_type": "code",
   "execution_count": null,
   "metadata": {
    "collapsed": true
   },
   "outputs": [],
   "source": [
    "import numpy as np\n",
    "import pandas as pd\n",
    "import matplotlib.pyplot as plt\n",
    "import ipywidgets as widgets\n",
    "import sklearn as skl\n",
    "import seaborn as sns\n",
    "sns.set()\n",
    "\n",
    "import scripts.load_data as load\n",
    "\n",
    "from ipywidgets import interact,interactive, fixed, interact_manual\n",
    "import sklearn.preprocessing\n",
    "\n",
    "\n",
    "%matplotlib inline\n",
    "%matplotlib notebook"
   ]
  },
  {
   "cell_type": "code",
   "execution_count": null,
   "metadata": {
    "collapsed": true
   },
   "outputs": [],
   "source": [
    "#reading in the training dataset\n",
    "X,y=load.load_training_spectra(include_depth=True)\n",
    "\n",
    "# joining features and targets into one dataframe\n",
    "train = pd.concat([X, y], axis=1)\n",
    "\n",
    "#Converting Depth to 0/1 boolean\n",
    "#depthmap={'Topsoil':1,'Subsoil':0}\n",
    "#train['Depth']=train['Depth'].replace(depthmap)\n"
   ]
  },
  {
   "cell_type": "code",
   "execution_count": null,
   "metadata": {
    "collapsed": true
   },
   "outputs": [],
   "source": [
    "#target names\n",
    "onames =[column for column in y.columns]\n",
    "\n",
    "#columns of dataframe corresponding to spectral data\n",
    "spectral_columns = [column for column in X.columns if column!='Depth']\n",
    "wavenumbers=[float(column) for column in spectral_columns]\n",
    "feature_columns = X.columns\n",
    "\n",
    "scaler = sklearn.preprocessing.StandardScaler().fit(train[spectral_columns])\n",
    "mean=train.mean()\n",
    "var=train.var()\n",
    "\n",
    "nrows=train.shape[0]"
   ]
  },
  {
   "cell_type": "code",
   "execution_count": null,
   "metadata": {
    "collapsed": true
   },
   "outputs": [],
   "source": [
    "train_scaled=train.copy()\n",
    "train_scaled[spectral_columns]=scaler.transform(train_scaled[spectral_columns])"
   ]
  },
  {
   "cell_type": "markdown",
   "metadata": {},
   "source": [
    "## Preprocessing: looking at the log transform of data\n",
    "\n",
    "If a target or feature exhibits a lot \n",
    "of skew, it can be difficult to see\n",
    "meaningful characteristics of the\n",
    "distribution.  Most samples will appear to\n",
    "pile up around a single value, with a\n",
    "few outliers spreading out the range of \n",
    "interest.  To better see any interesting behaviors\n",
    "that may be occurring in the sharp peak\n",
    "containing most of our samples, we can\n",
    "take the log transform to spread the peak\n",
    "out.\n",
    "\n",
    "In the cell below, a dataframe stores information\n",
    "on which variables are inspected in log space\n",
    "for the rest of this notebook (initially\n",
    "set to be the targets Ca, P, and SOC).  Taking\n",
    "the log transform also changes the histogram\n",
    "binning, so new bin information is also stored."
   ]
  },
  {
   "cell_type": "code",
   "execution_count": null,
   "metadata": {
    "collapsed": true
   },
   "outputs": [],
   "source": [
    "#a dataframe that stores data pertinent to plotting axes, binning, etc.\n",
    "plotdf = pd.DataFrame(index = onames, columns = ['offset','logbins','linbins','type'])\n",
    "\n",
    "for name in onames:\n",
    "  plotdf.loc[name,'offset']=0.00100001 - train[name].min()\n",
    "  #plotdf.loc[name,'bins'] = np.logspace(-3.0,2.0,25)\n",
    "  plotdf.loc[name,'logbins'] = np.logspace(\n",
    "      np.floor(np.log10(train[name].min()+plotdf.loc[name,'offset'])),\n",
    "      np.ceil(np.log10(train[name].max()+plotdf.loc[name,'offset'])),20)\n",
    "  plotdf.loc[name,'linbins'] = np.linspace(0,train[name].max()+plotdf.loc[name,'offset'],20)\n",
    "\n",
    "\n",
    "#playing around with log and linear scales - change here\n",
    "plotdf.loc['Ca','type']='logbins'\n",
    "plotdf.loc['P','type']='logbins'\n",
    "plotdf.loc['pH','type']='linbins'\n",
    "plotdf.loc['SOC','type']='logbins'\n",
    "plotdf.loc['Sand','type']='linbins'\n"
   ]
  },
  {
   "cell_type": "markdown",
   "metadata": {},
   "source": [
    "# Interactive plots with [ipywidgets](https://ipywidgets.readthedocs.io/en/stable/)\n",
    "\n",
    "This notebook introduces the usage \n",
    "of a few widgets that can help users \n",
    "to explore data in a more intuitive way.\n",
    "\n",
    "The three widgets used are:\n",
    "\n",
    "`widgets.ToggleButtons`:  the\n",
    "toggle button allows for switching between\n",
    "categories.\n",
    "\n",
    "`widgets.FloatSlider`:  a slider\n",
    "can change the value of a continuous\n",
    "variable\n",
    "\n",
    "\n",
    "`widgets.FloatRangeSlider`:  the\n",
    "range slider can select a range\n",
    "between the user defined minimum\n",
    "and maximum\n",
    "\n",
    "\n",
    "\n",
    "Only a few interactive ipywidgets are highlighted here,\n",
    "but many more are available to serve your needs. Even \n",
    "without in-depth knowledge on \n",
    "ipywidgets, the beginning developer \n",
    "can still build some powerful tools.  More help on\n",
    "getting started can be found in the\n",
    "[jupyter documentation](http://ipywidgets.readthedocs.io/en/latest/examples/Using%20Interact.html).\n"
   ]
  },
  {
   "cell_type": "markdown",
   "metadata": {},
   "source": [
    "The functions below are \n",
    "widget creators, and will \n",
    "be used repeatedly in the\n",
    "rest of the plots and figures\n",
    "in this notebook."
   ]
  },
  {
   "cell_type": "code",
   "execution_count": null,
   "metadata": {
    "collapsed": true
   },
   "outputs": [],
   "source": [
    "def createtargetbutton():\n",
    "     return widgets.ToggleButtons(\n",
    "        options=onames,\n",
    "        description='Soil property:',\n",
    "        disabled=False,\n",
    "        button_style='', # 'success', 'info', 'warning', 'danger' or ''\n",
    "        tooltips=['Mehlich-3 extractable Calcium', \n",
    "                  'Mehlich-3 extractable Phosphorus', \n",
    "                  'pH values',\n",
    "                  'Soil organic carbon',\n",
    "                  'Sand content'],\n",
    "        value=onames[0])\n",
    "\n",
    "def createsliceslider():\n",
    "    return widgets.FloatSlider(\n",
    "        value=90.,\n",
    "        min=0.0,\n",
    "        max=90.0,\n",
    "        step=0.1,\n",
    "        description='Slice of distribution (%ile)',\n",
    "        orientation='horizontal',\n",
    "        #readout=False,\n",
    "        readout_format='4.1f',\n",
    "        layout=widgets.Layout(width='80%'))\n",
    "\n",
    "def createminmaxslider():\n",
    "    return widgets.FloatRangeSlider(\n",
    "        value=[90., 99.99],\n",
    "        min=0.0,\n",
    "        max=99.99,\n",
    "        step=0.01,\n",
    "        description='Slice of distribution (%ile)',\n",
    "        orientation='horizontal',\n",
    "        layout=widgets.Layout(width='90%'))\n",
    "\n",
    "def createdepthbutton():\n",
    "    return widgets.ToggleButtons(\n",
    "        options=['All','Topsoil-Subsoil'],\n",
    "        description='Groupby soil depth:',\n",
    "        button_style='', \n",
    "        tooltips=['Combined distribution', \n",
    "                  'Topsoil and Subsoil, separate distributions'],\n",
    "        value='All')\n"
   ]
  },
  {
   "cell_type": "code",
   "execution_count": null,
   "metadata": {
    "collapsed": true
   },
   "outputs": [],
   "source": [
    "def plothists(axes,data,color='blue',label='all',alpha=1.0):\n",
    "    for i,name in enumerate(onames):\n",
    "        axes[i].hist(data[name]+plotdf.loc[name,'offset'],\n",
    "                bins=plotdf.loc[name,plotdf.loc[name,'type']],\n",
    "                alpha=alpha,color=color,label=label)\n",
    "        if plotdf.loc[name,'type']=='logbins':\n",
    "          axes[i].set_xscale('log')\n",
    "        else:        \n",
    "          axes[i].set_xscale('linear')\n",
    "            \n",
    "        axes[i].set_yticklabels([])\n",
    "        axes[i].set_xticklabels([])\n",
    "        \n",
    "def plotspecstandard(ax):\n",
    "        ax.set_xlabel('wavenumber')\n",
    "        ax.set_ylabel('spectral height, standardized')\n",
    "        ax.yaxis.set_label_position(\"right\")\n",
    "        ax.yaxis.tick_right()\n",
    "        ax.set_ylim(-2.5, 2.5)\n",
    "\n",
    "def plotspecabsolute(ax):\n",
    "    ax.plot(wavenumbers,\n",
    "            mean[spectral_columns],color='black',linestyle='dotted',label='total mean')\n",
    "    ax.set_xlabel('wavenumber')\n",
    "    ax.set_ylabel('spectral height')\n",
    "    ax.set_ylim(0,2.25)"
   ]
  },
  {
   "cell_type": "markdown",
   "metadata": {},
   "source": [
    "## Category selection: User chosen targets\n",
    "\n",
    "Below, we plot the averaged spectra \n",
    "of both the highest and lowest 100 samples when \n",
    "sorted by value of selected target.  This\n",
    "is a quick way to see differences in spectra\n",
    "between the target \"extremes\".  User \n",
    "chooses the target to sort by with \n",
    "provided toggle buttons."
   ]
  },
  {
   "cell_type": "code",
   "execution_count": null,
   "metadata": {
    "collapsed": true,
    "scrolled": true
   },
   "outputs": [],
   "source": [
    "@interact(prop=createtargetbutton())\n",
    "def plot_centeredspectra(prop):\n",
    "    \n",
    "    high = train_scaled.sort_values(prop).tail(100).mean().loc[spectral_columns]\n",
    "    low = train_scaled.sort_values(prop).head(100).mean().loc[spectral_columns]\n",
    "    f2 = plt.figure()\n",
    "    #f2.set_size_inches(12.0,6.0)\n",
    "    plt.plot(wavenumbers,high,label=\"highest 100 mean\")\n",
    "    plt.plot(wavenumbers,low,label=\"lowest 100 mean\")\n",
    "    plt.legend()\n",
    "    plt.title(\"Averaged spectrum, extremes for %s\"%(prop))"
   ]
  },
  {
   "cell_type": "markdown",
   "metadata": {},
   "source": [
    "The above interactive plot redraws at each button push.  \n",
    "Changes to the plot below render \n",
    "more quickly by only redrawing the data.\n",
    "\n",
    "(For interactivity, run the cell that appears below the plot)"
   ]
  },
  {
   "cell_type": "code",
   "execution_count": null,
   "metadata": {
    "collapsed": true
   },
   "outputs": [],
   "source": [
    "#the averages of the spectra of the highest (blue) and lowest (red) \n",
    "#content samples when ordered by selected property\n",
    "\n",
    "high = train_scaled.sort_values(onames[0]).tail(100).mean().loc[spectral_columns]\n",
    "low = train_scaled.sort_values(onames[0]).head(100).mean().loc[spectral_columns]\n",
    "\n",
    "f3 = plt.figure()\n",
    "#f3.set_size_inches(12.0,6.0)\n",
    "h,=plt.plot(wavenumbers,high,label=\"highest 100 mean\")\n",
    "g,=plt.plot(wavenumbers,low,label=\"lowest 100 mean\")\n",
    "\n",
    "plt.ylim(-2, 2)\n",
    "plt.legend(loc=0)\n",
    "\n",
    "plt.title(\"Averaged soil spectrum,mean-centered extremes for %s\"%(onames[0]))\n",
    "plt.tight_layout()\n",
    "\n",
    "def soilpropdefine(prop):\n",
    "    h.set_data(wavenumbers,train_scaled.sort_values(prop).tail(100).mean().loc[spectral_columns])\n",
    "    g.set_data(wavenumbers,train_scaled.sort_values(prop).head(100).mean().loc[spectral_columns])\n",
    "    plt.title(\"Averaged spectrum, extremes for %s\"%(prop))"
   ]
  },
  {
   "cell_type": "code",
   "execution_count": null,
   "metadata": {
    "collapsed": true
   },
   "outputs": [],
   "source": [
    "interact(soilpropdefine,prop=createtargetbutton()); ##### Run this to interact with the plot above! #####"
   ]
  },
  {
   "cell_type": "markdown",
   "metadata": {},
   "source": [
    "The following figure adds histograms to see \n",
    "the distributions of your selction according \n",
    "to its other associated target values.  It plots \n",
    "the average of the absolute spectra of the\n",
    "highest and lowest ranked 100 in that property.\n",
    "\n",
    "These take a while to render between \n",
    "button pushes, since everything is \n",
    "plotted all over again."
   ]
  },
  {
   "cell_type": "code",
   "execution_count": null,
   "metadata": {
    "collapsed": true
   },
   "outputs": [],
   "source": [
    "prop=onames[0]\n",
    "@interact(prop=createtargetbutton())\n",
    "def plotdata(prop):\n",
    "    f2 = plt.figure()\n",
    "    f2.set_size_inches(14.0,4.5)\n",
    "    \n",
    "    #mini distribution plots, high slice\n",
    "    ax1 = f2.add_subplot(2,9,4)\n",
    "    axes = [ax1] + [f2.add_subplot(2,9,i+4) for i in range(1, len(onames))]\n",
    "    plothists(axes[:len(onames)],train,color='blue',label='all',alpha=0.3)\n",
    "    for i,name in enumerate(onames):\n",
    "        axes[i].hist(train.sort_values(prop).tail(100)[name]+plotdf.loc[name,'offset'],\n",
    "                bins=plotdf.loc[name,plotdf.loc[name,'type']],\n",
    "                alpha=1.0,color='blue',label='selected')\n",
    "        if i==len(onames)-1:\n",
    "            axes[i].legend(loc=1)\n",
    "            \n",
    "    #mini distribution plots, low slice\n",
    "    ax2 = f2.add_subplot(2,9,13)\n",
    "    axes2 = [ax2] + [f2.add_subplot(2,9,i+13) for i in range(1, len(onames))]\n",
    "    plothists(axes2[:len(onames)],train,color='red',label='all',alpha=0.3)\n",
    "    for i,name in enumerate(onames):\n",
    "        axes2[i].hist(train.sort_values(prop).head(100)[name]+plotdf.loc[name,'offset'],\n",
    "                bins=plotdf.loc[name,plotdf.loc[name,'type']],\n",
    "                alpha=1.0,color='red',label='selected')\n",
    "        if i==len(onames)-1:\n",
    "            axes2[i].legend(loc=1)\n",
    "        axes2[i].set_xlabel(name)\n",
    "\n",
    "    \n",
    "    #plot of spectra\n",
    "    ax = plt.subplot2grid((2, 9), (0, 0), colspan=3,rowspan=2)\n",
    "    plotspecabsolute(ax)\n",
    "    ax.plot(wavenumbers,\n",
    "            train.sort_values(prop).tail(100).mean().loc[spectral_columns].as_matrix(),\n",
    "            color='blue',label='highest 100 mean')\n",
    "    ax.plot(wavenumbers,\n",
    "            train.sort_values(prop).head(100).mean().loc[spectral_columns].as_matrix(),\n",
    "            color='red',label='lowest 100 mean')\n",
    "    plt.legend()\n",
    "    plt.title(\"Averaged soil spectrum, extremes for %s\"%(prop))\n",
    "    f2.tight_layout()\n"
   ]
  },
  {
   "cell_type": "markdown",
   "metadata": {},
   "source": [
    "I like displaying the \"all\" histograms to \n",
    "compare the sample selection against, but \n",
    "didn't want to be replotting them each time. \n",
    "There doesn't seem to be a way to \n",
    "update an Axes.hist dynamically.  Instead, \n",
    "the code below clears ax with ax.cla() \n",
    "and replaces with a new histogram.  However, \n",
    "we don't want both the \"all\" and \"selected\"\n",
    "histogram on the same axes object, because the\n",
    "call to ax.cla() would clear both\n",
    "\n",
    "To avoid replotting the \"all\" histogram\n",
    "each time, the solution below forces\n",
    "two Axes objects right on top of each other -\n",
    "one is the \"all\" histogram, the other the \n",
    "selection.  Only the selection is cleared and \n",
    "updated. Make sure that axes limits are the same for both.\n",
    "\n",
    "## Range selection: choose the desired slice\n",
    "We've also added a range selection slider below.  Instead of being \n",
    "limited to looking at just the head(100) or tail(100) \n",
    "of the sorted samples, now select the slice, between min \n",
    "and max, you're interested in looking at."
   ]
  },
  {
   "cell_type": "code",
   "execution_count": null,
   "metadata": {
    "collapsed": true
   },
   "outputs": [],
   "source": [
    "prop=onames[0]\n",
    "top=99.99\n",
    "bot=90.0\n",
    "topind = int(np.ceil(top*nrows/100.00))\n",
    "botind = int(np.floor(bot*nrows/100.00))\n",
    "\n",
    "fig = plt.figure(figsize=(12,7))\n",
    "\n",
    "#set up  placement\n",
    "ax1 = fig.add_subplot(3, 5, 1)\n",
    "axes = [ax1] + [fig.add_subplot(3, 5, i) for i in range(2, len(onames)+1)]\n",
    "axes.append(plt.subplot2grid((5,10),(2,0),rowspan=3,colspan=5))\n",
    "axes.append(plt.subplot2grid((5,10),(2,5),rowspan=3,colspan=5))\n",
    "\n",
    "#histograms for comparison, includes all samples\n",
    "plothists(axes[:len(onames)],train,color='blue',label='all',alpha=0.3)\n",
    "for i,name in enumerate(onames):\n",
    "    axes[i].set_xlabel(name)\n",
    "\n",
    "\n",
    "#absolute spectrum, slice and average\n",
    "axes[len(onames)].plot(wavenumbers,\n",
    "                       mean[spectral_columns],color='black',linestyle='dotted',label='total mean')\n",
    "specabs,=axes[len(onames)].plot(wavenumbers,\n",
    "    train.sort_values(prop).iloc[slice(botind,topind)].mean().loc[spectral_columns].as_matrix(),\n",
    "    color='blue',label='slice average')\n",
    "axes[len(onames)].set_xlabel('wavenumber')\n",
    "axes[len(onames)].set_ylabel('spectral height')\n",
    "axes[len(onames)].set_ylim(0,2.25)\n",
    "\n",
    "# spectrum, mean centered and standardized\n",
    "plotspecstandard(axes[len(onames)+1])\n",
    "specstand,=axes[len(onames)+1].plot(wavenumbers,\n",
    "    train_scaled.sort_values(prop).iloc[slice(botind,topind)].mean().loc[spectral_columns],\n",
    "    color='blue',label=\"slice average\")\n",
    "\n",
    "#overplot histogram distributions of selected slice\n",
    "newax1 = fig.add_axes(axes[0].get_position(), frameon=False)\n",
    "newaxes = [newax1] + [fig.add_axes(axes[i].get_position(), frameon=False) \n",
    "                      for i in range(1, len(onames))]\n",
    "for i,name in enumerate(onames):\n",
    "    newaxes[i].set_ylim(axes[i].get_ylim())\n",
    "    newaxes[i].set_xlim(axes[i].get_xlim())\n",
    "plothists(newaxes[:len(onames)],train.sort_values(prop).iloc[slice(botind,topind)],\n",
    "          color='blue',label='selected',alpha=1.0)\n",
    "\n",
    "def changeplot1(val,prop):\n",
    "    topind = int(np.ceil(val[1]*nrows/100.00))\n",
    "    botind = int(np.floor(val[0]*nrows/100.00))\n",
    "\n",
    "    for i,name in enumerate(onames):\n",
    "        newaxes[i].cla()\n",
    "        newaxes[i].set_ylim(axes[i].get_ylim())\n",
    "        newaxes[i].set_xlim(axes[i].get_xlim())\n",
    "        \n",
    "    plothists(newaxes[:len(onames)],train.sort_values(prop).iloc[slice(botind,topind)],\n",
    "          color='blue',label='selected',alpha=1.0)\n",
    "    specabs.set_data(wavenumbers,\n",
    "        train.sort_values(prop).iloc[slice(botind,topind)].mean().loc[spectral_columns])\n",
    "    specstand.set_data(wavenumbers,\n",
    "        train_scaled.sort_values(prop).iloc[slice(botind,topind)].mean().loc[spectral_columns])"
   ]
  },
  {
   "cell_type": "code",
   "execution_count": null,
   "metadata": {
    "collapsed": true
   },
   "outputs": [],
   "source": [
    "interact(changeplot1,val=createminmaxslider(),prop=createtargetbutton());"
   ]
  },
  {
   "cell_type": "markdown",
   "metadata": {},
   "source": [
    "## Slider: increase or decrease a variable\n",
    "The interactive plot below \n",
    "is pretty much the same as that above, \n",
    "but with only one slider that selects a \n",
    "slice with 10% of the data.  With one slider \n",
    "it's easier to see in real time the evolution of the \n",
    "spectrum as one of the output values increases or decreases. "
   ]
  },
  {
   "cell_type": "code",
   "execution_count": null,
   "metadata": {
    "collapsed": true
   },
   "outputs": [],
   "source": [
    "\n",
    "prop=onames[0]\n",
    "#The size of the slice will be fixed to 10% of the data\n",
    "slicesize_percent = 10.\n",
    "slicesize = int(nrows*slicesize_percent/100.)\n",
    "botind_min = 0\n",
    "botind_max = nrows-slicesize-1\n",
    "botind = botind_max\n",
    "\n",
    "fig = plt.figure(figsize=(12,7))\n",
    "\n",
    "#set up  placement\n",
    "ax1 = fig.add_subplot(3, 5, 1)\n",
    "axes = [ax1] + [fig.add_subplot(3, 5, i) for i in range(2, len(onames)+1)]\n",
    "axes.append(plt.subplot2grid((5,10),(2,0),rowspan=3,colspan=5))\n",
    "axes.append(plt.subplot2grid((5,10),(2,5),rowspan=3,colspan=5))\n",
    "\n",
    "#histograms for comparison, includes all samples\n",
    "plothists(axes[:len(onames)],train,color='blue',label='all',alpha=0.3)\n",
    "for i,name in enumerate(onames):\n",
    "    axes[i].set_xlabel(name)\n",
    "\n",
    "#absolute spectrum, slice and average\n",
    "plotspecabsolute(axes[len(onames)])\n",
    "specabs,=axes[len(onames)].plot(wavenumbers,\n",
    "    train.sort_values(prop).iloc[slice(botind,botind+slicesize)].mean().loc[spectral_columns],\n",
    "    color='blue',label='slice average')\n",
    "\n",
    "# spectrum, mean centered and standardized\n",
    "plotspecstandard(axes[len(onames)+1])\n",
    "specstand,=axes[len(onames)+1].plot(wavenumbers,\n",
    "    train_scaled.sort_values(prop).iloc[slice(botind,botind+slicesize)].mean().loc[spectral_columns],\n",
    "      color='blue',label=\"slice average\")\n",
    "\n",
    "#overplot histogram distributions of selected slice\n",
    "newax1 = fig.add_axes(axes[0].get_position(), frameon=False)\n",
    "newaxes = [newax1] + [fig.add_axes(axes[i].get_position(), frameon=False) \n",
    "                      for i in range(1, len(onames))]\n",
    "for i,name in enumerate(onames):\n",
    "    newaxes[i].set_ylim(axes[i].get_ylim())\n",
    "    newaxes[i].set_xlim(axes[i].get_xlim())\n",
    "plothists(newaxes[:len(onames)],train.sort_values(prop).iloc[slice(botind,botind+slicesize)],\n",
    "          color='blue',label='selected',alpha=1.0)\n",
    "\n",
    "fig.suptitle('Soil spectrum and histograms for {:4.1f} to {:4.1f} percentile slice in {:s}'\n",
    "             .format(botind/nrows,botind/nrows+slicesize_percent,prop))\n",
    "    \n",
    "def changeplot2(val,prop):\n",
    "    botind = int(np.floor(val*nrows/100.))\n",
    "\n",
    "    for i,name in enumerate(onames):\n",
    "        newaxes[i].cla()\n",
    "        newaxes[i].set_ylim(axes[i].get_ylim())\n",
    "        newaxes[i].set_xlim(axes[i].get_xlim())\n",
    "        plothists(newaxes[:len(onames)],train.sort_values(prop).iloc[slice(botind,botind+slicesize)],\n",
    "          color='blue',label='selected',alpha=1.0)\n",
    "\n",
    "    specabs.set_data(wavenumbers,\n",
    "        train.sort_values(prop).iloc[slice(botind,botind+slicesize)].mean().loc[spectral_columns])\n",
    "    specstand.set_data(wavenumbers,\n",
    "        train_scaled.sort_values(prop).iloc[slice(botind,botind+slicesize)].mean().loc[spectral_columns])\n",
    "    fig.suptitle('Soil spectrum and histograms for {:4.1f} to {:4.1f} percentile slice in {:s}'\n",
    "             .format(val,val+slicesize_percent,prop))"
   ]
  },
  {
   "cell_type": "code",
   "execution_count": null,
   "metadata": {
    "collapsed": true
   },
   "outputs": [],
   "source": [
    "interact(changeplot2,val=createsliceslider(),prop=createtargetbutton());"
   ]
  },
  {
   "cell_type": "markdown",
   "metadata": {},
   "source": [
    "With all the data to be looked\n",
    "up and replotted, things are pretty \n",
    "slow.  Let's use the same widgets \n",
    "but only look at the standardized \n",
    "spectral height below.\n",
    "\n",
    "\n",
    "## Groupby:  see differences between groups\n",
    "Another set of toggle buttons is added\n",
    "below, allowing the user to group by Depth.  The\n",
    "soil dataset doesn't have any other categorical\n",
    "variables, which is too bad, because the pandas\n",
    "`groupby` method is fun and powerful.  If interested,\n",
    "try creating your own groups from the data to play\n",
    "around with."
   ]
  },
  {
   "cell_type": "code",
   "execution_count": null,
   "metadata": {
    "collapsed": true
   },
   "outputs": [],
   "source": [
    "prop=onames[0]\n",
    "#The size of the slice will be fixed to 10% of the data, tweak here to change\n",
    "slicesize_percent = 10.\n",
    "slicesize = int(nrows*slicesize_percent/100.)\n",
    "botind_min = 0\n",
    "botind_max = nrows-slicesize-1\n",
    "botind = botind_max\n",
    "\n",
    "fig = plt.figure()\n",
    "ax = fig.add_subplot(1,1,1)\n",
    "# spectrum, mean centered and standardized\n",
    "ax.set_xlabel('wavenumber')\n",
    "ax.set_ylabel('spectral height, standardized')\n",
    "ax.set_ylim(-2.5, 2.5)\n",
    "specstand,=ax.plot(wavenumbers,\n",
    "    train_scaled.sort_values(prop).iloc[slice(botind,botind+slicesize)].mean().loc[spectral_columns]\n",
    "                   ,label=\"All/Topsoil\")\n",
    "specstand_sub,=ax.plot([],[],label='Subsoil')\n",
    "ax.legend()\n",
    "fig.suptitle('Standardized soil spectrum for {:4.1f} to {:4.1f} percentile slice in {:s}'\n",
    "             .format(botind/nrows,botind/nrows+slicesize_percent,prop))\n",
    "\n",
    "def changeplot3(val,prop,depth):\n",
    "    botind = int(np.floor(val*nrows/100.))\n",
    "    dat=train_scaled.sort_values(prop).iloc[slice(botind,botind+slicesize)]\n",
    "    if depth=='All':\n",
    "        xtop=wavenumbers,\n",
    "        ytop=dat.mean().loc[spectral_columns]\n",
    "        xsub=[]\n",
    "        ysub=[]\n",
    "    else:\n",
    "        xtop=wavenumbers,\n",
    "        ytop=dat.groupby('Depth').get_group('Subsoil').mean().loc[spectral_columns]\n",
    "        xsub=wavenumbers\n",
    "        ysub=dat.groupby('Depth').get_group('Topsoil').mean().loc[spectral_columns]\n",
    "\n",
    "    specstand.set_data(xtop,ytop)\n",
    "    specstand_sub.set_data(xsub,ysub)\n",
    "    fig.suptitle('Soil spectrum and histograms for {:4.1f} to {:4.1f} percentile slice in {:s}'\n",
    "             .format(val,val+slicesize_percent,prop))\n",
    "\n"
   ]
  },
  {
   "cell_type": "code",
   "execution_count": null,
   "metadata": {
    "collapsed": true
   },
   "outputs": [],
   "source": [
    "interact(changeplot3,val=createsliceslider(),depth=createdepthbutton(),prop=createtargetbutton());"
   ]
  }
 ],
 "metadata": {
  "kernelspec": {
   "display_name": "Python 3",
   "language": "python",
   "name": "python3"
  },
  "language_info": {
   "codemirror_mode": {
    "name": "ipython",
    "version": 3
   },
   "file_extension": ".py",
   "mimetype": "text/x-python",
   "name": "python",
   "nbconvert_exporter": "python",
   "pygments_lexer": "ipython3",
   "version": "3.6.1"
  }
 },
 "nbformat": 4,
 "nbformat_minor": 2
}

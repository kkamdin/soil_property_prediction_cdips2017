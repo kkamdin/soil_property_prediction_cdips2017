{
 "cells": [
  {
   "cell_type": "markdown",
   "metadata": {},
   "source": [
    "![banner](../img/cdips_2017_logo.png)"
   ]
  },
  {
   "cell_type": "markdown",
   "metadata": {},
   "source": [
    "# Gradient Boosting Regression"
   ]
  },
  {
   "cell_type": "code",
   "execution_count": 1,
   "metadata": {
    "collapsed": true
   },
   "outputs": [],
   "source": [
    "import matplotlib.pyplot as plt\n",
    "import pandas as pd\n",
    "import sklearn as skl\n",
    "import numpy as np\n",
    "\n",
    "import seaborn as sns\n",
    "sns.set(font_scale=2)\n",
    "\n",
    "import scripts.load_data as load\n",
    "\n",
    "%matplotlib inline"
   ]
  },
  {
   "cell_type": "code",
   "execution_count": 2,
   "metadata": {
    "collapsed": true
   },
   "outputs": [],
   "source": [
    "import sklearn.preprocessing\n",
    "import sklearn.decomposition\n",
    "import sklearn.ensemble\n",
    "import sklearn.model_selection\n",
    "import sklearn.feature_selection\n",
    "import sklearn.metrics\n",
    "\n",
    "from scipy.stats import randint as sp_randint\n",
    "from scipy.stats import uniform as sp_uniform\n",
    "\n",
    "from time import time"
   ]
  },
  {
   "cell_type": "code",
   "execution_count": 3,
   "metadata": {
    "collapsed": true
   },
   "outputs": [],
   "source": [
    "def report(results, n_top=3):\n",
    "    for i in range(1, n_top + 1):\n",
    "        candidates = np.flatnonzero(results['rank_test_score'] == i)\n",
    "        for candidate in candidates:\n",
    "            print(\"Model with rank: {0}\".format(i))\n",
    "            print(\"Mean validation score: {0:.3f} (std: {1:.3f})\".format(\n",
    "                  results['mean_test_score'][candidate],\n",
    "                  results['std_test_score'][candidate]))\n",
    "            print(\"Parameters: {0}\".format(results['params'][candidate]))\n",
    "            print(\"\")\n"
   ]
  },
  {
   "cell_type": "code",
   "execution_count": 4,
   "metadata": {
    "collapsed": true
   },
   "outputs": [],
   "source": [
    "X,targets=load.load_training_spectra()"
   ]
  },
  {
   "cell_type": "markdown",
   "metadata": {},
   "source": [
    "## Gradient Boosted Trees\n",
    "Gradient boosted trees can be regarded as \n",
    "the smarter older sibling to the [Random Forest](http://scikit-learn.org/stable/modules/generated/sklearn.ensemble.RandomForestRegressor.html#sklearn.ensemble.RandomForestRegressor) \n",
    "ensemble method.  While Random Forest builds \n",
    "many trees in parallel, Gradient Boosting is a \n",
    "sequential process with a new tree formed at \n",
    "each stage.  Gradient Boosted Trees are iteratively \n",
    "corrected, with the residuals of the previous tree \n",
    "providing the basis for building the subsequent tree.  The \n",
    "user specifies the loss function to be optimized,\n",
    "and here we use least squares regression,\n",
    "the default loss function for scikit-learn's [GradientBoostingRegressor](http://scikit-learn.org/stable/modules/generated/sklearn.ensemble.GradientBoostingRegressor.html).  The\n",
    "whole procedure can be regarded as a way of\n",
    "applying [Gradient Descent](http://scikit-learn.org/stable/modules/sgd.html#sgd)\n",
    "to [Decision Trees](http://scikit-learn.org/stable/modules/tree.html).\n",
    "\n",
    "More info and intuition about gradient \n",
    "boosted trees can be found [here](http://machinelearningmastery.com/gentle-introduction-gradient-boosting-algorithm-machine-learning/)."
   ]
  },
  {
   "cell_type": "markdown",
   "metadata": {},
   "source": [
    "To help speed up the task of training these trees, \n",
    "we perform some [dimensionality reduction](02_A - Dimensionality Reduction with PCA.ipynb) \n",
    "and feature selection below."
   ]
  },
  {
   "cell_type": "code",
   "execution_count": 5,
   "metadata": {
    "collapsed": true
   },
   "outputs": [],
   "source": [
    "pca = skl.decomposition.PCA()\n",
    "X_transformed = pca.fit_transform(X)\n"
   ]
  },
  {
   "cell_type": "markdown",
   "metadata": {},
   "source": [
    "Scikit-learn's **GradientBoostingRegressor** \n",
    "doesn't work for multiple targets, \n",
    "so we will train for one target at a time.  SKL \n",
    "does handle multioutput for instances like this \n",
    "with MultiOutputRegressor, but it seems to make info \n",
    "about the gradient boosting regressor\n",
    "(like feature importances) less accessible.  \n",
    "\n",
    "For now we'll only look at one target, Ca.  To \n",
    "choose another target, change `output_column` \n",
    "in the cell below to equal your desired target."
   ]
  },
  {
   "cell_type": "code",
   "execution_count": 6,
   "metadata": {
    "collapsed": true
   },
   "outputs": [],
   "source": [
    "#output_column options: \"Ca\",\"P\",\"pH\",\"SOC\",\"Sand\"\n",
    "output_column=\"Ca\"\n",
    "\n",
    "y=targets[output_column]"
   ]
  },
  {
   "cell_type": "markdown",
   "metadata": {},
   "source": [
    "An 80-20 train-test split is applied here to \n",
    "[cross-validate](01 - Cross Validation Primer.ipynb) our trained model."
   ]
  },
  {
   "cell_type": "code",
   "execution_count": 7,
   "metadata": {
    "collapsed": true
   },
   "outputs": [],
   "source": [
    "X_train, X_test, y_train, y_test = skl.model_selection.train_test_split(X_transformed,y,test_size=0.2)"
   ]
  },
  {
   "cell_type": "code",
   "execution_count": 8,
   "metadata": {
    "collapsed": true
   },
   "outputs": [],
   "source": [
    "n_estimators=1000\n",
    "clf=skl.ensemble.GradientBoostingRegressor(n_estimators=n_estimators)"
   ]
  },
  {
   "cell_type": "markdown",
   "metadata": {},
   "source": [
    "Time to train the regressor on our training data.  If \n",
    "`n_estimators` is large, this may take a while.  \n",
    "\n",
    "Typically,\n",
    "1000 estimators on the spectral principal components\n",
    "takes 80 seconds to complete."
   ]
  },
  {
   "cell_type": "code",
   "execution_count": 9,
   "metadata": {},
   "outputs": [
    {
     "name": "stdout",
     "output_type": "stream",
     "text": [
      "GBR took 81.16 seconds for 1000 estimators\n"
     ]
    }
   ],
   "source": [
    "start=time()\n",
    "clf.fit(X_train,y_train.values.ravel())\n",
    "print(\"GBR took %.2f seconds for %d estimators\"\n",
    "      % ((time() - start), n_estimators))"
   ]
  },
  {
   "cell_type": "code",
   "execution_count": 10,
   "metadata": {
    "collapsed": true
   },
   "outputs": [],
   "source": [
    "y_pred = clf.predict(X_test)"
   ]
  },
  {
   "cell_type": "markdown",
   "metadata": {},
   "source": [
    "Here are some scoring metrics for our first pass at this model:"
   ]
  },
  {
   "cell_type": "code",
   "execution_count": 11,
   "metadata": {},
   "outputs": [
    {
     "data": {
      "text/plain": [
       "0.12064955735292023"
      ]
     },
     "execution_count": 11,
     "metadata": {},
     "output_type": "execute_result"
    }
   ],
   "source": [
    "skl.metrics.mean_squared_error(y_test,y_pred)"
   ]
  },
  {
   "cell_type": "code",
   "execution_count": 12,
   "metadata": {},
   "outputs": [
    {
     "data": {
      "text/plain": [
       "0.82794144858651164"
      ]
     },
     "execution_count": 12,
     "metadata": {},
     "output_type": "execute_result"
    }
   ],
   "source": [
    "skl.metrics.r2_score(y_test,y_pred)"
   ]
  },
  {
   "cell_type": "markdown",
   "metadata": {},
   "source": [
    "## Feature importances and selection"
   ]
  },
  {
   "cell_type": "markdown",
   "metadata": {
    "collapsed": true
   },
   "source": [
    "There are ways to save time without \n",
    "giving up model performance.  One \n",
    "way is by using GradientBoostingRegressor's \n",
    "**feature_importances** attribute, which \n",
    "can identify the most important features \n",
    "in determining a split, allowing us to \n",
    "cast out less important features."
   ]
  },
  {
   "cell_type": "markdown",
   "metadata": {},
   "source": [
    "Below we print out the highest ranking features\n",
    "(remember, these are the \n",
    "numbered labels of our Principal Components):"
   ]
  },
  {
   "cell_type": "code",
   "execution_count": 13,
   "metadata": {
    "scrolled": true
   },
   "outputs": [
    {
     "name": "stdout",
     "output_type": "stream",
     "text": [
      "Feature ranking:\n",
      "1.  feature 6 (0.015195)\n",
      "2.  feature 3 (0.008805)\n",
      "3.  feature 0 (0.008015)\n",
      "4.  feature 8 (0.006579)\n",
      "5.  feature 5 (0.006447)\n",
      "6.  feature 4 (0.006067)\n",
      "7.  feature 2 (0.005986)\n",
      "8.  feature 7 (0.005845)\n",
      "9.  feature 65 (0.005628)\n",
      "10.  feature 32 (0.005108)\n"
     ]
    }
   ],
   "source": [
    "importances=clf.feature_importances_\n",
    "indices = np.argsort(importances)[::-1]\n",
    "\n",
    "#Print the feature ranking\n",
    "print(\"Feature ranking:\")\n",
    "\n",
    "#for f in range(X.shape[1]):\n",
    "for f in range(10):\n",
    "    print(\"{:d}.  feature {:d} ({:f})\".format(f+1,indices[f],importances[indices[f]]))"
   ]
  },
  {
   "cell_type": "markdown",
   "metadata": {},
   "source": [
    "For the most part, the important features appear \n",
    "to also correspond to the the PCs that explain the most variance.  \n",
    "\n",
    "However, it's important to note that\n",
    "if dealing with a feature set \n",
    "with high correlation between features\n",
    "(i.e. one that hasn't undergone PCA),\n",
    "one shouldn't read too much into feature importances. \n",
    "While fine for saving time and reducing overfitting,\n",
    "feature importances don't necessarily serve as an\n",
    "interpretation for which features make\n",
    "strong predictors for targets.  This is because\n",
    "given two correlated features, the first one used\n",
    "to determine a split will necessarily have a larger\n",
    "impact on impurity reduction than the other.  Even\n",
    "if both features serve as strong predictors,\n",
    "the first feature will be ranked as much more\n",
    "important.\n",
    "\n",
    "For more information, you can read [this post](http://alexperrier.github.io/jekyll/update/2015/08/27/feature-importance-random-forests-gini-accuracy.html) \n",
    "describing feature engineering and selection in random forests - \n",
    "most insights will apply to GBRTs as well."
   ]
  },
  {
   "cell_type": "code",
   "execution_count": 14,
   "metadata": {},
   "outputs": [
    {
     "data": {
      "image/png": "[encoded data removed]",
      "text/plain": [
       "<matplotlib.figure.Figure at 0x11a08bb38>"
      ]
     },
     "metadata": {},
     "output_type": "display_data"
    }
   ],
   "source": [
    "plt.figure(figsize=(15,5))\n",
    "plt.bar(range(len(X_train)),\n",
    "        clf.feature_importances_[indices[range(len(X_train))]]/clf.feature_importances_[indices[0]])\n",
    "plt.xlabel('feature rank')\n",
    "plt.ylabel('feature importance (normalized to max)');"
   ]
  },
  {
   "cell_type": "markdown",
   "metadata": {},
   "source": [
    "Let's train GradientBoostingRegressor again,\n",
    "this time only using important features.\n",
    "\n",
    "\n",
    "The reduction in dimensionality will \n",
    "allow us to explore the hyperparameter \n",
    "space in a more timely fashion.  \n",
    "Here we use skl's  **SelectFromModel**, \n",
    "and define a threshold above which we deem a feature important."
   ]
  },
  {
   "cell_type": "code",
   "execution_count": 15,
   "metadata": {},
   "outputs": [
    {
     "data": {
      "text/plain": [
       "SelectFromModel(estimator=GradientBoostingRegressor(alpha=0.9, criterion='friedman_mse', init=None,\n",
       "             learning_rate=0.1, loss='ls', max_depth=3, max_features=None,\n",
       "             max_leaf_nodes=None, min_impurity_split=1e-07,\n",
       "             min_samples_leaf=1, min_samples_split=2,\n",
       "             min_weight_fraction_leaf=0.0, n_estimators=1000,\n",
       "             presort='auto', random_state=None, subsample=1.0, verbose=0,\n",
       "             warm_start=False),\n",
       "        prefit=False, threshold=0.002)"
      ]
     },
     "execution_count": 15,
     "metadata": {},
     "output_type": "execute_result"
    }
   ],
   "source": [
    "sfm = skl.feature_selection.SelectFromModel(clf,threshold=0.002)\n",
    "sfm.fit(X_train,y_train.values.ravel()) #training the selector"
   ]
  },
  {
   "cell_type": "code",
   "execution_count": 16,
   "metadata": {},
   "outputs": [
    {
     "data": {
      "text/plain": [
       "array([   0,    2,    3,    4,    5,    6,    7,    8,    9,   11,   12,\n",
       "         13,   14,   16,   18,   19,   21,   22,   26,   27,   32,   33,\n",
       "         34,   35,   37,   38,   41,   48,   51,   52,   53,   54,   58,\n",
       "         64,   65,   69,   71,   72,   73,  103,  110,  111,  113,  120,\n",
       "        123,  138,  142,  153,  172,  173,  182,  203,  207,  236,  252,\n",
       "        256,  260,  268,  275,  297,  335,  371,  420,  449,  459,  468,\n",
       "        471,  472,  538,  543,  549,  561,  584,  587,  592,  603,  616,\n",
       "        656,  694,  727,  741,  744,  804,  863,  891,  895,  901,  979,\n",
       "        980,  990, 1014, 1020, 1048, 1066, 1076, 1121, 1143, 1148])"
      ]
     },
     "execution_count": 16,
     "metadata": {},
     "output_type": "execute_result"
    }
   ],
   "source": [
    "sfm.get_support(indices=True) #This array lists the feature indices identified as important"
   ]
  },
  {
   "cell_type": "markdown",
   "metadata": {},
   "source": [
    "Now let's transform our data to a subset that only includes the \"important\" features,"
   ]
  },
  {
   "cell_type": "code",
   "execution_count": 17,
   "metadata": {
    "collapsed": true
   },
   "outputs": [],
   "source": [
    "X_important_train = sfm.transform(X_train)\n",
    "X_important_test = sfm.transform(X_test)"
   ]
  },
  {
   "cell_type": "markdown",
   "metadata": {},
   "source": [
    "and train a new GBR with this curated feature set."
   ]
  },
  {
   "cell_type": "code",
   "execution_count": 18,
   "metadata": {},
   "outputs": [
    {
     "name": "stdout",
     "output_type": "stream",
     "text": [
      "GBR took 5.82 seconds for 1000 estimators\n"
     ]
    }
   ],
   "source": [
    "clf_important=skl.ensemble.GradientBoostingRegressor(n_estimators=n_estimators)\n",
    "start=time()\n",
    "clf_important.fit(X_important_train,y_train.values.ravel())\n",
    "print(\"GBR took %.2f seconds for %d estimators\"\n",
    "      % ((time() - start), n_estimators))"
   ]
  },
  {
   "cell_type": "markdown",
   "metadata": {},
   "source": [
    "Here we find the mean squared error on our test subset, using all features"
   ]
  },
  {
   "cell_type": "code",
   "execution_count": 19,
   "metadata": {
    "collapsed": true
   },
   "outputs": [],
   "source": [
    "y_pred = clf.predict(X_test)"
   ]
  },
  {
   "cell_type": "code",
   "execution_count": 20,
   "metadata": {},
   "outputs": [
    {
     "data": {
      "text/plain": [
       "0.12064955735292023"
      ]
     },
     "execution_count": 20,
     "metadata": {},
     "output_type": "execute_result"
    }
   ],
   "source": [
    "skl.metrics.mean_squared_error(y_test,y_pred)"
   ]
  },
  {
   "cell_type": "markdown",
   "metadata": {},
   "source": [
    "Now we find the mean squared error again, this time with only our selected features"
   ]
  },
  {
   "cell_type": "code",
   "execution_count": 21,
   "metadata": {
    "collapsed": true
   },
   "outputs": [],
   "source": [
    "y_important_pred = clf_important.predict(X_important_test)"
   ]
  },
  {
   "cell_type": "code",
   "execution_count": 22,
   "metadata": {},
   "outputs": [
    {
     "data": {
      "text/plain": [
       "0.086882781300082965"
      ]
     },
     "execution_count": 22,
     "metadata": {},
     "output_type": "execute_result"
    }
   ],
   "source": [
    "skl.metrics.mean_squared_error(y_test,y_important_pred)"
   ]
  },
  {
   "cell_type": "markdown",
   "metadata": {},
   "source": [
    "Reducing the number of features shouldn't \n",
    "increase the error much - error may even go \n",
    "down!  If error increased by an uncomfortable \n",
    "amount, try decreasing  \n",
    "`threshold` in feature_selection.**SelectFromModel**\n",
    "to include more features.\n",
    "\n"
   ]
  },
  {
   "cell_type": "markdown",
   "metadata": {},
   "source": [
    "## Specify model hyperparameters\n",
    "At this point one would usually \n",
    "use Randomized or Grid Search cross-validation \n",
    "to tune hyperparameters that \n",
    "optimize model performance.  This can be time-consuming,\n",
    "so some pre-determined hyperparameters \n",
    "are provided in the cell below\n",
    "if you're eager to immediately fit and examine a model."
   ]
  },
  {
   "cell_type": "code",
   "execution_count": 23,
   "metadata": {
    "collapsed": true
   },
   "outputs": [],
   "source": [
    "params = {'n_estimators':3000,\n",
    "          'max_depth':3,\n",
    "          'min_samples_split':15,\n",
    "          'min_samples_leaf':3,\n",
    "          'max_features':0.8,\n",
    "          'learning_rate':0.01}\n",
    "clf_final = skl.ensemble.GradientBoostingRegressor(**params)"
   ]
  },
  {
   "cell_type": "code",
   "execution_count": 24,
   "metadata": {},
   "outputs": [
    {
     "data": {
      "text/plain": [
       "GradientBoostingRegressor(alpha=0.9, criterion='friedman_mse', init=None,\n",
       "             learning_rate=0.01, loss='ls', max_depth=3, max_features=0.8,\n",
       "             max_leaf_nodes=None, min_impurity_split=1e-07,\n",
       "             min_samples_leaf=3, min_samples_split=15,\n",
       "             min_weight_fraction_leaf=0.0, n_estimators=3000,\n",
       "             presort='auto', random_state=None, subsample=1.0, verbose=0,\n",
       "             warm_start=False)"
      ]
     },
     "execution_count": 24,
     "metadata": {},
     "output_type": "execute_result"
    }
   ],
   "source": [
    "clf_final.fit(X_important_train,y_train.values.ravel())"
   ]
  },
  {
   "cell_type": "markdown",
   "metadata": {},
   "source": [
    "Take a look at our R-squared value on our test data:"
   ]
  },
  {
   "cell_type": "code",
   "execution_count": 25,
   "metadata": {},
   "outputs": [
    {
     "data": {
      "text/plain": [
       "0.89134340388857802"
      ]
     },
     "execution_count": 25,
     "metadata": {},
     "output_type": "execute_result"
    }
   ],
   "source": [
    "clf_final.score(X_important_test,y_test)"
   ]
  },
  {
   "cell_type": "markdown",
   "metadata": {},
   "source": [
    "Let's compute the deviance at each stage \n",
    "(one stage for each estimator) for \n",
    "the training and test sets.  \n",
    "\n",
    "Each stage \n",
    "does appear to improve performance!  This \n",
    "seems true with most of our targets, with the \n",
    "exception of Phosphorus (P), which as of this \n",
    "writing has been difficult to fit with trees."
   ]
  },
  {
   "cell_type": "code",
   "execution_count": 26,
   "metadata": {},
   "outputs": [
    {
     "data": {
      "image/png": "[encoded data removed]",
      "text/plain": [
       "<matplotlib.figure.Figure at 0x11a05ae80>"
      ]
     },
     "metadata": {},
     "output_type": "display_data"
    }
   ],
   "source": [
    "# compute test set deviance\n",
    "test_score = np.zeros((params['n_estimators'],), dtype=np.float64)\n",
    "\n",
    "for i, y_pred in enumerate(clf_final.staged_predict(X_important_test)):\n",
    "    test_score[i] = clf_final.loss_(y_test.values.ravel(), y_pred)\n",
    "\n",
    "plt.figure(figsize=(12, 6))\n",
    "plt.subplot(1, 2, 1)\n",
    "plt.title('Deviance')\n",
    "plt.plot(np.arange(params['n_estimators']) + 1, clf_final.train_score_, 'b-',\n",
    "         label='Training Set Deviance')\n",
    "plt.plot(np.arange(params['n_estimators']) + 1, test_score, 'r-',\n",
    "         label='Test Set Deviance')\n",
    "plt.legend(loc='upper right')\n",
    "plt.xlabel('Boosting Iterations')\n",
    "plt.ylabel('Deviance');"
   ]
  },
  {
   "cell_type": "markdown",
   "metadata": {},
   "source": [
    "## RandomizedSearch cross-validation: when there's not enough time for GridSearch\n",
    "We used the feature_selection package to pare down our feature list to some important ones.  \n",
    "Now the **model_selection** package will help us to explore the hyperparameter space \n",
    "and pin down the right combination of hyperparameters that gives us the best model.  \n",
    "\n",
    "[**GridSearchCV**](http://scikit-learn.org/stable/modules/generated/sklearn.model_selection.GridSearchCV.html) exhaustively loops through every combination of user-supplied lists of hyperparameters - \n",
    "with more than a few parameters, and more than a few values tried for each parameter, \n",
    "this can compound into a lot of iterations.  \n",
    "\n",
    "[**RandomizedSearchCV**](http://scikit-learn.org/stable/modules/generated/sklearn.model_selection.RandomizedSearchCV.html) \n",
    "only calculates for randomly \n",
    "selected parameter sets, \n",
    "selected from user-supplied distribution \n",
    "functions (here listed in `param_dist`).  \n",
    "It can save a lot of time without \n",
    "degradation in performance. Consider a case where\n",
    "it doesn't matter whether\n",
    "`min_samples_leaf` is 2 or 20 or anything in-between.\n",
    "One key benefit of RandomizedSearch over\n",
    "GridSearch is that including parameters that have no \n",
    "effect on performance does not harm\n",
    "efficiency, since in RandomizedSearch the\n",
    "unimportant parameters aren't constantly\n",
    "iterated over combinations with other parameters.\n",
    "Instead, the search is limited to a budget \n",
    "of `n_iter` samples randomly chosen, where\n",
    "randomization still allows for a good exploration\n",
    "of the entire parameter space.\n",
    "\n",
    "Distribution functions sp_randint and sp_uniform\n",
    "come from the scipy.stats package and return uniformly\n",
    "distributed integer and float random variables.\n",
    "\n",
    "`n_iter_search` defines how many different hyperparameter combos\n",
    "you'd like to collect.  The higher the number, the more\n",
    "thoroughly you explore your parameter space, but also\n",
    "the longer it will take.  The search\n",
    "took 600s to fit for `n_iter_search=1000`\n",
    "and `n_estimators` limited to less than 200."
   ]
  },
  {
   "cell_type": "code",
   "execution_count": 27,
   "metadata": {
    "collapsed": true
   },
   "outputs": [],
   "source": [
    "clf_cv = skl.ensemble.GradientBoostingRegressor()"
   ]
  },
  {
   "cell_type": "code",
   "execution_count": 28,
   "metadata": {
    "collapsed": true
   },
   "outputs": [],
   "source": [
    "param_dist = {\"n_estimators\":sp_randint(50,200),\n",
    "              \"max_features\":sp_uniform(loc=0.4,scale=0.5),\n",
    "              \"min_samples_leaf\":sp_randint(1,20),\n",
    "              \"min_samples_split\":sp_randint(2,25),\n",
    "              \"max_depth\":sp_randint(2,8),\n",
    "              \"subsample\":sp_uniform(loc=.5,scale=.5),\n",
    "             }"
   ]
  },
  {
   "cell_type": "code",
   "execution_count": 29,
   "metadata": {
    "collapsed": true
   },
   "outputs": [],
   "source": [
    "n_iter_search=1000\n",
    "random_search=skl.model_selection.RandomizedSearchCV(clf_cv,\n",
    "                                                     param_distributions=param_dist,\n",
    "                                                     n_iter=n_iter_search,\n",
    "                                                     n_jobs=-1\n",
    "                                                    )"
   ]
  },
  {
   "cell_type": "code",
   "execution_count": 30,
   "metadata": {},
   "outputs": [
    {
     "name": "stdout",
     "output_type": "stream",
     "text": [
      "RandomizedSearchCV took 601.40 seconds for 1000 iterations\n"
     ]
    }
   ],
   "source": [
    "start=time()\n",
    "random_search.fit(X_important_train,y_train.values.ravel())\n",
    "print(\"RandomizedSearchCV took %.2f seconds for %d iterations\"\n",
    "      % ((time() - start), n_iter_search))"
   ]
  },
  {
   "cell_type": "markdown",
   "metadata": {},
   "source": [
    "Let's print out the info for the highest-ranking models.\n",
    "Hopefully a winning list of hyperparameters will emerge!"
   ]
  },
  {
   "cell_type": "code",
   "execution_count": 31,
   "metadata": {},
   "outputs": [
    {
     "name": "stdout",
     "output_type": "stream",
     "text": [
      "Model with rank: 1\n",
      "Mean validation score: 0.857 (std: 0.040)\n",
      "Parameters: {'max_depth': 3, 'max_features': 0.7676442219232984, 'min_samples_leaf': 1, 'min_samples_split': 20, 'n_estimators': 116, 'subsample': 0.95747652248816706}\n",
      "\n",
      "Model with rank: 2\n",
      "Mean validation score: 0.856 (std: 0.062)\n",
      "Parameters: {'max_depth': 7, 'max_features': 0.70581721115630947, 'min_samples_leaf': 4, 'min_samples_split': 5, 'n_estimators': 163, 'subsample': 0.59056647078808133}\n",
      "\n",
      "Model with rank: 3\n",
      "Mean validation score: 0.856 (std: 0.067)\n",
      "Parameters: {'max_depth': 6, 'max_features': 0.87147513886371786, 'min_samples_leaf': 4, 'min_samples_split': 16, 'n_estimators': 181, 'subsample': 0.91091319596145959}\n",
      "\n",
      "Model with rank: 4\n",
      "Mean validation score: 0.856 (std: 0.026)\n",
      "Parameters: {'max_depth': 5, 'max_features': 0.46165707922687016, 'min_samples_leaf': 7, 'min_samples_split': 14, 'n_estimators': 168, 'subsample': 0.82301293894656791}\n",
      "\n",
      "Model with rank: 5\n",
      "Mean validation score: 0.855 (std: 0.050)\n",
      "Parameters: {'max_depth': 3, 'max_features': 0.57114847398102708, 'min_samples_leaf': 5, 'min_samples_split': 4, 'n_estimators': 175, 'subsample': 0.98316695816603983}\n",
      "\n",
      "Model with rank: 6\n",
      "Mean validation score: 0.853 (std: 0.065)\n",
      "Parameters: {'max_depth': 5, 'max_features': 0.86476239269197408, 'min_samples_leaf': 1, 'min_samples_split': 14, 'n_estimators': 110, 'subsample': 0.77164765848992145}\n",
      "\n",
      "Model with rank: 7\n",
      "Mean validation score: 0.853 (std: 0.069)\n",
      "Parameters: {'max_depth': 3, 'max_features': 0.59913389025356378, 'min_samples_leaf': 4, 'min_samples_split': 11, 'n_estimators': 176, 'subsample': 0.82669143698954306}\n",
      "\n",
      "Model with rank: 8\n",
      "Mean validation score: 0.853 (std: 0.055)\n",
      "Parameters: {'max_depth': 3, 'max_features': 0.65824625282638649, 'min_samples_leaf': 2, 'min_samples_split': 11, 'n_estimators': 191, 'subsample': 0.98654991826358107}\n",
      "\n",
      "Model with rank: 9\n",
      "Mean validation score: 0.852 (std: 0.036)\n",
      "Parameters: {'max_depth': 4, 'max_features': 0.57432723473131009, 'min_samples_leaf': 6, 'min_samples_split': 13, 'n_estimators': 166, 'subsample': 0.81078808081470366}\n",
      "\n",
      "Model with rank: 10\n",
      "Mean validation score: 0.851 (std: 0.043)\n",
      "Parameters: {'max_depth': 4, 'max_features': 0.47152028287303305, 'min_samples_leaf': 3, 'min_samples_split': 2, 'n_estimators': 178, 'subsample': 0.99361551510148605}\n",
      "\n"
     ]
    }
   ],
   "source": [
    "report(random_search.cv_results_,n_top=10)"
   ]
  },
  {
   "cell_type": "markdown",
   "metadata": {},
   "source": [
    "To further improve performance we can \n",
    "halve the learning rate and double n_estimators,\n",
    "or apply some other appropriately proportional\n",
    "tuning."
   ]
  },
  {
   "cell_type": "markdown",
   "metadata": {
    "collapsed": true
   },
   "source": [
    "If hand-tuning parameters is more your style, \n",
    "you can try a _greedy_ cross-validation scheme, \n",
    "where hyperparameters are tuned and fixed one by one.\n",
    "\n",
    "A nicely laid out approach is outlined [here](https://www.analyticsvidhya.com/blog/2016/02/complete-guide-parameter-tuning-gradient-boosting-gbm-python/).  \n",
    "The hyperparameters are tuned in a specific order, \n",
    "with the more important parameters appearing first:\n",
    "1. Tune an appropriate balance of `n_estimators` and `learning_rate`\n",
    "2. Tune tree parameters:\n",
    "   1. `max_depth` and `num_samples_split`\n",
    "   2. `min_samples_leaf`\n",
    "   3. `max_features`\n",
    "3. Lower `learning_rate` as you increase `n_estimators`"
   ]
  }
 ],
 "metadata": {
  "kernelspec": {
   "display_name": "Python 3",
   "language": "python",
   "name": "python3"
  },
  "language_info": {
   "codemirror_mode": {
    "name": "ipython",
    "version": 3
   },
   "file_extension": ".py",
   "mimetype": "text/x-python",
   "name": "python",
   "nbconvert_exporter": "python",
   "pygments_lexer": "ipython3",
   "version": "3.6.1"
  }
 },
 "nbformat": 4,
 "nbformat_minor": 2
}

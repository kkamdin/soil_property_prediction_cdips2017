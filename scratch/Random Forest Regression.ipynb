{
 "cells": [
  {
   "cell_type": "code",
   "execution_count": null,
   "metadata": {
    "collapsed": true
   },
   "outputs": [],
   "source": [
    "import matplotlib.pyplot as plt\n",
    "import pandas as pd\n",
    "import sklearn as skl\n",
    "import numpy as np\n",
    "\n",
    "import seaborn as sns\n",
    "sns.set(font_scale=2)\n",
    "\n",
    "%matplotlib inline"
   ]
  },
  {
   "cell_type": "code",
   "execution_count": null,
   "metadata": {
    "collapsed": true
   },
   "outputs": [],
   "source": [
    "import sklearn.decomposition\n",
    "import sklearn.ensemble\n",
    "from sklearn.model_selection import train_test_split"
   ]
  },
  {
   "cell_type": "code",
   "execution_count": null,
   "metadata": {},
   "outputs": [],
   "source": [
    "train = pd.read_csv('../data/training.csv')\n",
    "\n",
    "train.head()"
   ]
  },
  {
   "cell_type": "code",
   "execution_count": null,
   "metadata": {},
   "outputs": [],
   "source": [
    "data_columns = [column for column in train.columns if column.startswith('m')]\n",
    "wavenumbers = [float(column.lstrip('m')) for column in data_columns]\n",
    "\n",
    "output_columns = [\"Ca\",\"P\",\"pH\",\"SOC\",\"Sand\"]\n",
    "\n",
    "X = train[data_columns].as_matrix()\n",
    "y = train[output_columns].as_matrix()"
   ]
  },
  {
   "cell_type": "code",
   "execution_count": null,
   "metadata": {},
   "outputs": [],
   "source": [
    "RFR_model = sklearn.ensemble.RandomForestRegressor(min_impurity_split=1e-5,\n",
    "                                                       n_estimators=1000,\n",
    "                                                       min_samples_split=2,\n",
    "                                                       max_depth=20,\n",
    "                                                       min_samples_leaf=0.001,\n",
    "                                                       max_features=0.33,\n",
    "                                                       n_jobs=-1,\n",
    "                                                       oob_score=True)\n",
    "\n",
    "transformed_X = sklearn.decomposition.PCA(n_components=100).fit_transform(X)\n",
    "RFR_model.fit(transformed_X,y)"
   ]
  },
  {
   "cell_type": "code",
   "execution_count": null,
   "metadata": {},
   "outputs": [],
   "source": [
    "RFR_model.oob_score_"
   ]
  },
  {
   "cell_type": "markdown",
   "metadata": {},
   "source": [
    "### Cross-Validation"
   ]
  },
  {
   "cell_type": "code",
   "execution_count": null,
   "metadata": {},
   "outputs": [],
   "source": [
    "n_estimators = 1000\n",
    "\n",
    "hyperparameter = 'Depth'\n",
    "\n",
    "#schedule = [1,2,3,5,10,20,30,50,None] #depth\n",
    "\n",
    "schedule = [1,2,3,5,10,20,]#30,50,None] #depth\n",
    "\n",
    "#schedule = ['sqrt','auto',0.16,0.33,0.5,0.67] #max_features\n",
    "\n",
    "#schedule = [2,5,10,20,50,100] #min_samples_split\n",
    "\n",
    "#schedule = [1e-7,1e-6,1e-5,1e-4,1e-2,1e-1] #min_impurity_split\n",
    "\n",
    "oob_scores = np.zeros(len(schedule))\n",
    "inb_scores = np.zeros_like(oob_scores)\n",
    "\n",
    "for schedule_idx, value in enumerate(schedule):\n",
    "    RFR_model = sklearn.ensemble.RandomForestRegressor(min_impurity_split=1e-5,\n",
    "                                                       n_estimators=n_estimators,\n",
    "                                                       min_samples_split=2,\n",
    "                                                       max_depth=value,\n",
    "                                                       min_samples_leaf=0.001,\n",
    "                                                       max_features=0.33,\n",
    "                                                       n_jobs=-1,\n",
    "                                                       oob_score=True)\n",
    "    \n",
    "    transformed_X = sklearn.decomposition.PCA(n_components=100,whiten=False).fit_transform(X)\n",
    "    RFR_model.fit(transformed_X,y)\n",
    "    oob_scores[schedule_idx] = RFR_model.oob_score_\n",
    "    inb_scores[schedule_idx] = RFR_model.score(transformed_X,y)"
   ]
  },
  {
   "cell_type": "code",
   "execution_count": null,
   "metadata": {
    "scrolled": false
   },
   "outputs": [],
   "source": [
    "plot_indices = schedule\n",
    "#plot_indices = list(range(len(schedule))) # for max_features only\n",
    "\n",
    "plt.semilogx(plot_indices,inb_scores,linewidth=4,label='train')\n",
    "plt.semilogx(plot_indices,oob_scores,linewidth=4,label='test')\n",
    "\n",
    "plt.semilogx(plot_indices,[0.68]*len(plot_indices),linewidth=4,color='k',label='Best Linear Model')\n",
    "\n",
    "#plt.xticks(plot_indices,[str(val) for val in schedule]);\n",
    "plt.xlabel(hyperparameter); plt.ylabel(r'$R^2$ OOB'); plt.legend()\n",
    "plt.title(\"Performance Across\" + hyperparameter + \" for Compressed Data, \"+ str(n_estimators)+ \" Trees\");"
   ]
  }
 ],
 "metadata": {
  "kernelspec": {
   "display_name": "Python 3",
   "language": "python",
   "name": "python3"
  },
  "language_info": {
   "codemirror_mode": {
    "name": "ipython",
    "version": 3
   },
   "file_extension": ".py",
   "mimetype": "text/x-python",
   "name": "python",
   "nbconvert_exporter": "python",
   "pygments_lexer": "ipython3",
   "version": "3.6.1"
  }
 },
 "nbformat": 4,
 "nbformat_minor": 2
}

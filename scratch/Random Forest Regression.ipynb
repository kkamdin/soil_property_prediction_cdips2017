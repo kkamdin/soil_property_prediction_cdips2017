{
 "cells": [
  {
   "cell_type": "code",
   "execution_count": 1,
   "metadata": {
    "collapsed": true
   },
   "outputs": [],
   "source": [
    "import matplotlib.pyplot as plt\n",
    "import pandas as pd\n",
    "import sklearn as skl\n",
    "import numpy as np\n",
    "\n",
    "import seaborn as sns\n",
    "sns.set(font_scale=2)\n",
    "\n",
    "\n",
    "%matplotlib inline"
   ]
  },
  {
   "cell_type": "code",
   "execution_count": 2,
   "metadata": {
    "collapsed": true
   },
   "outputs": [],
   "source": [
    "import sklearn.decomposition\n",
    "import sklearn.ensemble\n",
    "from sklearn.model_selection import train_test_split"
   ]
  },
  {
   "cell_type": "markdown",
   "metadata": {},
   "source": [
    "#### import data loading scripts"
   ]
  },
  {
   "cell_type": "code",
   "execution_count": 3,
   "metadata": {},
   "outputs": [],
   "source": [
    "from scripts.load_data import *"
   ]
  },
  {
   "cell_type": "code",
   "execution_count": 4,
   "metadata": {
    "collapsed": true
   },
   "outputs": [],
   "source": [
    "[X,y]=load_training_spectra()"
   ]
  },
  {
   "cell_type": "code",
   "execution_count": 12,
   "metadata": {},
   "outputs": [
    {
     "name": "stdout",
     "output_type": "stream",
     "text": [
      "Index(['7497.96', '7496.04', '7494.11', '7492.18', '7490.25', '7488.32',\n",
      "       '7486.39', '7484.46', '7482.54', '7480.61',\n",
      "       ...\n",
      "       '617.116', '615.188', '613.259', '611.331', '609.402', '607.474',\n",
      "       '605.545', '603.617', '601.688', '599.76'],\n",
      "      dtype='object', length=3578)\n"
     ]
    },
    {
     "data": {
      "text/html": [
       "<div>\n",
       "<style>\n",
       "    .dataframe thead tr:only-child th {\n",
       "        text-align: right;\n",
       "    }\n",
       "\n",
       "    .dataframe thead th {\n",
       "        text-align: left;\n",
       "    }\n",
       "\n",
       "    .dataframe tbody tr th {\n",
       "        vertical-align: top;\n",
       "    }\n",
       "</style>\n",
       "<table border=\"1\" class=\"dataframe\">\n",
       "  <thead>\n",
       "    <tr style=\"text-align: right;\">\n",
       "      <th></th>\n",
       "      <th>7497.96</th>\n",
       "      <th>7496.04</th>\n",
       "      <th>7494.11</th>\n",
       "      <th>7492.18</th>\n",
       "      <th>7490.25</th>\n",
       "      <th>7488.32</th>\n",
       "      <th>7486.39</th>\n",
       "      <th>7484.46</th>\n",
       "      <th>7482.54</th>\n",
       "      <th>7480.61</th>\n",
       "      <th>...</th>\n",
       "      <th>617.116</th>\n",
       "      <th>615.188</th>\n",
       "      <th>613.259</th>\n",
       "      <th>611.331</th>\n",
       "      <th>609.402</th>\n",
       "      <th>607.474</th>\n",
       "      <th>605.545</th>\n",
       "      <th>603.617</th>\n",
       "      <th>601.688</th>\n",
       "      <th>599.76</th>\n",
       "    </tr>\n",
       "  </thead>\n",
       "  <tbody>\n",
       "    <tr>\n",
       "      <th>0</th>\n",
       "      <td>0.302553</td>\n",
       "      <td>0.301137</td>\n",
       "      <td>0.299748</td>\n",
       "      <td>0.300354</td>\n",
       "      <td>0.302679</td>\n",
       "      <td>0.303799</td>\n",
       "      <td>0.301702</td>\n",
       "      <td>0.298936</td>\n",
       "      <td>0.298126</td>\n",
       "      <td>0.298120</td>\n",
       "      <td>...</td>\n",
       "      <td>1.86431</td>\n",
       "      <td>1.84816</td>\n",
       "      <td>1.83288</td>\n",
       "      <td>1.81858</td>\n",
       "      <td>1.80247</td>\n",
       "      <td>1.78462</td>\n",
       "      <td>1.76644</td>\n",
       "      <td>1.75086</td>\n",
       "      <td>1.74335</td>\n",
       "      <td>1.74246</td>\n",
       "    </tr>\n",
       "    <tr>\n",
       "      <th>1</th>\n",
       "      <td>0.270192</td>\n",
       "      <td>0.268555</td>\n",
       "      <td>0.266964</td>\n",
       "      <td>0.267938</td>\n",
       "      <td>0.271013</td>\n",
       "      <td>0.272346</td>\n",
       "      <td>0.269870</td>\n",
       "      <td>0.266976</td>\n",
       "      <td>0.266544</td>\n",
       "      <td>0.266766</td>\n",
       "      <td>...</td>\n",
       "      <td>1.91071</td>\n",
       "      <td>1.89728</td>\n",
       "      <td>1.88298</td>\n",
       "      <td>1.86131</td>\n",
       "      <td>1.83355</td>\n",
       "      <td>1.80581</td>\n",
       "      <td>1.78410</td>\n",
       "      <td>1.77195</td>\n",
       "      <td>1.76479</td>\n",
       "      <td>1.75437</td>\n",
       "    </tr>\n",
       "    <tr>\n",
       "      <th>2</th>\n",
       "      <td>0.317433</td>\n",
       "      <td>0.316265</td>\n",
       "      <td>0.314948</td>\n",
       "      <td>0.315224</td>\n",
       "      <td>0.316942</td>\n",
       "      <td>0.317764</td>\n",
       "      <td>0.316067</td>\n",
       "      <td>0.313874</td>\n",
       "      <td>0.313301</td>\n",
       "      <td>0.313296</td>\n",
       "      <td>...</td>\n",
       "      <td>1.77356</td>\n",
       "      <td>1.76544</td>\n",
       "      <td>1.76124</td>\n",
       "      <td>1.75742</td>\n",
       "      <td>1.75113</td>\n",
       "      <td>1.74128</td>\n",
       "      <td>1.72894</td>\n",
       "      <td>1.71991</td>\n",
       "      <td>1.71562</td>\n",
       "      <td>1.71158</td>\n",
       "    </tr>\n",
       "    <tr>\n",
       "      <th>3</th>\n",
       "      <td>0.261116</td>\n",
       "      <td>0.259767</td>\n",
       "      <td>0.258384</td>\n",
       "      <td>0.259001</td>\n",
       "      <td>0.261310</td>\n",
       "      <td>0.262417</td>\n",
       "      <td>0.260534</td>\n",
       "      <td>0.258039</td>\n",
       "      <td>0.257246</td>\n",
       "      <td>0.257124</td>\n",
       "      <td>...</td>\n",
       "      <td>1.73527</td>\n",
       "      <td>1.72770</td>\n",
       "      <td>1.72349</td>\n",
       "      <td>1.72149</td>\n",
       "      <td>1.71630</td>\n",
       "      <td>1.70737</td>\n",
       "      <td>1.69952</td>\n",
       "      <td>1.69356</td>\n",
       "      <td>1.68812</td>\n",
       "      <td>1.68178</td>\n",
       "    </tr>\n",
       "    <tr>\n",
       "      <th>4</th>\n",
       "      <td>0.260038</td>\n",
       "      <td>0.258425</td>\n",
       "      <td>0.256544</td>\n",
       "      <td>0.257030</td>\n",
       "      <td>0.259602</td>\n",
       "      <td>0.260786</td>\n",
       "      <td>0.258717</td>\n",
       "      <td>0.256352</td>\n",
       "      <td>0.255902</td>\n",
       "      <td>0.255822</td>\n",
       "      <td>...</td>\n",
       "      <td>1.72088</td>\n",
       "      <td>1.70944</td>\n",
       "      <td>1.69711</td>\n",
       "      <td>1.68257</td>\n",
       "      <td>1.66762</td>\n",
       "      <td>1.65639</td>\n",
       "      <td>1.64929</td>\n",
       "      <td>1.64089</td>\n",
       "      <td>1.62805</td>\n",
       "      <td>1.61643</td>\n",
       "    </tr>\n",
       "  </tbody>\n",
       "</table>\n",
       "<p>5 rows × 3578 columns</p>\n",
       "</div>"
      ],
      "text/plain": [
       "    7497.96   7496.04   7494.11   7492.18   7490.25   7488.32   7486.39  \\\n",
       "0  0.302553  0.301137  0.299748  0.300354  0.302679  0.303799  0.301702   \n",
       "1  0.270192  0.268555  0.266964  0.267938  0.271013  0.272346  0.269870   \n",
       "2  0.317433  0.316265  0.314948  0.315224  0.316942  0.317764  0.316067   \n",
       "3  0.261116  0.259767  0.258384  0.259001  0.261310  0.262417  0.260534   \n",
       "4  0.260038  0.258425  0.256544  0.257030  0.259602  0.260786  0.258717   \n",
       "\n",
       "    7484.46   7482.54   7480.61   ...     617.116  615.188  613.259  611.331  \\\n",
       "0  0.298936  0.298126  0.298120   ...     1.86431  1.84816  1.83288  1.81858   \n",
       "1  0.266976  0.266544  0.266766   ...     1.91071  1.89728  1.88298  1.86131   \n",
       "2  0.313874  0.313301  0.313296   ...     1.77356  1.76544  1.76124  1.75742   \n",
       "3  0.258039  0.257246  0.257124   ...     1.73527  1.72770  1.72349  1.72149   \n",
       "4  0.256352  0.255902  0.255822   ...     1.72088  1.70944  1.69711  1.68257   \n",
       "\n",
       "   609.402  607.474  605.545  603.617  601.688   599.76  \n",
       "0  1.80247  1.78462  1.76644  1.75086  1.74335  1.74246  \n",
       "1  1.83355  1.80581  1.78410  1.77195  1.76479  1.75437  \n",
       "2  1.75113  1.74128  1.72894  1.71991  1.71562  1.71158  \n",
       "3  1.71630  1.70737  1.69952  1.69356  1.68812  1.68178  \n",
       "4  1.66762  1.65639  1.64929  1.64089  1.62805  1.61643  \n",
       "\n",
       "[5 rows x 3578 columns]"
      ]
     },
     "execution_count": 12,
     "metadata": {},
     "output_type": "execute_result"
    }
   ],
   "source": [
    "print(X.columns)\n",
    "X.head()"
   ]
  },
  {
   "cell_type": "code",
   "execution_count": 11,
   "metadata": {},
   "outputs": [
    {
     "name": "stdout",
     "output_type": "stream",
     "text": [
      "Index(['Ca', 'P', 'pH', 'SOC', 'Sand'], dtype='object')\n"
     ]
    },
    {
     "data": {
      "text/html": [
       "<div>\n",
       "<style>\n",
       "    .dataframe thead tr:only-child th {\n",
       "        text-align: right;\n",
       "    }\n",
       "\n",
       "    .dataframe thead th {\n",
       "        text-align: left;\n",
       "    }\n",
       "\n",
       "    .dataframe tbody tr th {\n",
       "        vertical-align: top;\n",
       "    }\n",
       "</style>\n",
       "<table border=\"1\" class=\"dataframe\">\n",
       "  <thead>\n",
       "    <tr style=\"text-align: right;\">\n",
       "      <th></th>\n",
       "      <th>Ca</th>\n",
       "      <th>P</th>\n",
       "      <th>pH</th>\n",
       "      <th>SOC</th>\n",
       "      <th>Sand</th>\n",
       "    </tr>\n",
       "  </thead>\n",
       "  <tbody>\n",
       "    <tr>\n",
       "      <th>0</th>\n",
       "      <td>-0.295749</td>\n",
       "      <td>-0.041336</td>\n",
       "      <td>-1.129366</td>\n",
       "      <td>0.353258</td>\n",
       "      <td>1.269748</td>\n",
       "    </tr>\n",
       "    <tr>\n",
       "      <th>1</th>\n",
       "      <td>-0.387442</td>\n",
       "      <td>-0.231552</td>\n",
       "      <td>-1.531538</td>\n",
       "      <td>-0.264023</td>\n",
       "      <td>1.692209</td>\n",
       "    </tr>\n",
       "    <tr>\n",
       "      <th>2</th>\n",
       "      <td>-0.248601</td>\n",
       "      <td>-0.224635</td>\n",
       "      <td>-0.259551</td>\n",
       "      <td>0.064152</td>\n",
       "      <td>2.091835</td>\n",
       "    </tr>\n",
       "    <tr>\n",
       "      <th>3</th>\n",
       "      <td>-0.332195</td>\n",
       "      <td>-0.318014</td>\n",
       "      <td>-0.577548</td>\n",
       "      <td>-0.318719</td>\n",
       "      <td>2.118477</td>\n",
       "    </tr>\n",
       "    <tr>\n",
       "      <th>4</th>\n",
       "      <td>-0.438350</td>\n",
       "      <td>-0.010210</td>\n",
       "      <td>-0.699135</td>\n",
       "      <td>-0.310905</td>\n",
       "      <td>2.164148</td>\n",
       "    </tr>\n",
       "  </tbody>\n",
       "</table>\n",
       "</div>"
      ],
      "text/plain": [
       "         Ca         P        pH       SOC      Sand\n",
       "0 -0.295749 -0.041336 -1.129366  0.353258  1.269748\n",
       "1 -0.387442 -0.231552 -1.531538 -0.264023  1.692209\n",
       "2 -0.248601 -0.224635 -0.259551  0.064152  2.091835\n",
       "3 -0.332195 -0.318014 -0.577548 -0.318719  2.118477\n",
       "4 -0.438350 -0.010210 -0.699135 -0.310905  2.164148"
      ]
     },
     "execution_count": 11,
     "metadata": {},
     "output_type": "execute_result"
    }
   ],
   "source": [
    "print(y.columns)\n",
    "y.head()"
   ]
  },
  {
   "cell_type": "code",
   "execution_count": 13,
   "metadata": {},
   "outputs": [
    {
     "data": {
      "text/plain": [
       "RandomForestRegressor(bootstrap=True, criterion='mse', max_depth=20,\n",
       "           max_features=0.33, max_leaf_nodes=None,\n",
       "           min_impurity_split=1e-05, min_samples_leaf=0.001,\n",
       "           min_samples_split=2, min_weight_fraction_leaf=0.0,\n",
       "           n_estimators=1000, n_jobs=-1, oob_score=True, random_state=None,\n",
       "           verbose=0, warm_start=False)"
      ]
     },
     "execution_count": 13,
     "metadata": {},
     "output_type": "execute_result"
    }
   ],
   "source": [
    "RFR_model = sklearn.ensemble.RandomForestRegressor(min_impurity_split=1e-5,\n",
    "                                                       n_estimators=1000,\n",
    "                                                       min_samples_split=2,\n",
    "                                                       max_depth=20,\n",
    "                                                       min_samples_leaf=0.001,\n",
    "                                                       max_features=0.33,\n",
    "                                                       n_jobs=-1,\n",
    "                                                       oob_score=True)\n",
    "\n",
    "transformed_X = sklearn.decomposition.PCA(n_components=100).fit_transform(X)\n",
    "RFR_model.fit(transformed_X,y)"
   ]
  },
  {
   "cell_type": "code",
   "execution_count": 14,
   "metadata": {},
   "outputs": [
    {
     "data": {
      "text/plain": [
       "0.658179479678204"
      ]
     },
     "execution_count": 14,
     "metadata": {},
     "output_type": "execute_result"
    }
   ],
   "source": [
    "RFR_model.oob_score_"
   ]
  },
  {
   "cell_type": "markdown",
   "metadata": {},
   "source": [
    "### compare model w/ 100 PCs to model w/100 randomly drawn wavenumbers"
   ]
  },
  {
   "cell_type": "code",
   "execution_count": 26,
   "metadata": {},
   "outputs": [
    {
     "data": {
      "text/plain": [
       "(1157, 100)"
      ]
     },
     "execution_count": 26,
     "metadata": {},
     "output_type": "execute_result"
    }
   ],
   "source": [
    "random_X=X.sample(n=100,axis=1)\n",
    "random_X.head()\n",
    "random_X.shape"
   ]
  },
  {
   "cell_type": "code",
   "execution_count": 27,
   "metadata": {},
   "outputs": [
    {
     "data": {
      "text/plain": [
       "RandomForestRegressor(bootstrap=True, criterion='mse', max_depth=20,\n",
       "           max_features=0.33, max_leaf_nodes=None,\n",
       "           min_impurity_split=1e-05, min_samples_leaf=0.001,\n",
       "           min_samples_split=2, min_weight_fraction_leaf=0.0,\n",
       "           n_estimators=1000, n_jobs=-1, oob_score=True, random_state=None,\n",
       "           verbose=0, warm_start=False)"
      ]
     },
     "execution_count": 27,
     "metadata": {},
     "output_type": "execute_result"
    }
   ],
   "source": [
    "RFR_model.fit(random_X,y)"
   ]
  },
  {
   "cell_type": "code",
   "execution_count": 28,
   "metadata": {},
   "outputs": [
    {
     "data": {
      "text/plain": [
       "0.6533101260840537"
      ]
     },
     "execution_count": 28,
     "metadata": {},
     "output_type": "execute_result"
    }
   ],
   "source": [
    "RFR_model.oob_score_"
   ]
  },
  {
   "cell_type": "markdown",
   "metadata": {},
   "source": [
    "### try random forest with all features"
   ]
  },
  {
   "cell_type": "code",
   "execution_count": 66,
   "metadata": {},
   "outputs": [
    {
     "name": "stdout",
     "output_type": "stream",
     "text": [
      "0.648986401775\n"
     ]
    }
   ],
   "source": [
    "RFR_model=sklearn.ensemble.RandomForestRegressor(**params_use,\n",
    "                                                n_estimators=1000,\n",
    "                                                 min_samples_leaf=0.001,\n",
    "                                                  n_jobs=-1,\n",
    "                                                 oob_score=True)\n",
    "\n",
    "RFR_model.fit(X,y)\n",
    "print(RFR_model.oob_score_)"
   ]
  },
  {
   "cell_type": "markdown",
   "metadata": {},
   "source": [
    "### Cross-Validation, compressive PCA"
   ]
  },
  {
   "cell_type": "code",
   "execution_count": 29,
   "metadata": {
    "collapsed": true
   },
   "outputs": [],
   "source": [
    "n_estimators = 1000\n",
    "\n",
    "hyperparameter = 'Depth'\n",
    "\n",
    "#schedule = [1,2,3,5,10,20,30,50,None] #depth\n",
    "\n",
    "schedule = [1,2,3,5,10,20,]#30,50,None] #depth\n",
    "\n",
    "#schedule = ['sqrt','auto',0.16,0.33,0.5,0.67] #max_features\n",
    "\n",
    "#schedule = [2,5,10,20,50,100] #min_samples_split\n",
    "\n",
    "#schedule = [1e-7,1e-6,1e-5,1e-4,1e-2,1e-1] #min_impurity_split\n",
    "\n",
    "oob_scores = np.zeros(len(schedule))\n",
    "inb_scores = np.zeros_like(oob_scores)\n",
    "\n",
    "for schedule_idx, value in enumerate(schedule):\n",
    "    RFR_model = sklearn.ensemble.RandomForestRegressor(min_impurity_split=1e-5,\n",
    "                                                       n_estimators=n_estimators,\n",
    "                                                       min_samples_split=2,\n",
    "                                                       max_depth=value,\n",
    "                                                       min_samples_leaf=0.001,\n",
    "                                                       max_features=0.33,\n",
    "                                                       n_jobs=-1,\n",
    "                                                       oob_score=True)\n",
    "    \n",
    "    transformed_X = sklearn.decomposition.PCA(n_components=100,whiten=False).fit_transform(X)\n",
    "    RFR_model.fit(transformed_X,y)\n",
    "    oob_scores[schedule_idx] = RFR_model.oob_score_\n",
    "    inb_scores[schedule_idx] = RFR_model.score(transformed_X,y)"
   ]
  },
  {
   "cell_type": "code",
   "execution_count": 30,
   "metadata": {
    "scrolled": false
   },
   "outputs": [
    {
     "data": {
      "image/png": "[encoded data removed]",
      "text/plain": [
       "<matplotlib.figure.Figure at 0x11d402518>"
      ]
     },
     "metadata": {},
     "output_type": "display_data"
    }
   ],
   "source": [
    "plot_indices = schedule\n",
    "#plot_indices = list(range(len(schedule))) # for max_features only\n",
    "plot_indices = schedule\n",
    "#plot_indices = list(range(len(schedule))) # for max_features only\n",
    "\n",
    "plt.semilogx(plot_indices,inb_scores,linewidth=4,label='train')\n",
    "plt.semilogx(plot_indices,oob_scores,linewidth=4,label='test')\n",
    "\n",
    "plt.semilogx(plot_indices,[0.68]*len(plot_indices),linewidth=4,color='k',label='Best Linear Model')\n",
    "\n",
    "#plt.xticks(plot_indices,[str(val) for val in schedule]);\n",
    "plt.xlabel(hyperparameter); plt.ylabel(r'$R^2$ OOB'); plt.legend()\n",
    "plt.title(\"Performance Across\" + hyperparameter + \" for Compressed Data, \"+ str(n_estimators)+ \" Trees\");\n"
   ]
  },
  {
   "cell_type": "code",
   "execution_count": 31,
   "metadata": {},
   "outputs": [
    {
     "data": {
      "image/png": "[encoded data removed]",
      "text/plain": [
       "<matplotlib.figure.Figure at 0x12d8d7630>"
      ]
     },
     "metadata": {},
     "output_type": "display_data"
    }
   ],
   "source": [
    "plt.plot(plot_indices,inb_scores,linewidth=4,label='train')\n",
    "plt.plot(plot_indices,oob_scores,linewidth=4,label='test')\n",
    "\n",
    "#plt.semilogx(plot_indices,[0.68]*len(plot_indices),linewidth=4,color='k',label='Best Linear Model')\n",
    "\n",
    "#plt.xticks(plot_indices,[str(val) for val in schedule]);\n",
    "plt.xlabel(hyperparameter); plt.ylabel(r'$R^2$ OOB'); plt.legend()\n",
    "plt.title(\"Performance Across\" + hyperparameter + \" for Compressed Data, \"+ str(n_estimators)+ \" Trees\");"
   ]
  },
  {
   "cell_type": "code",
   "execution_count": 46,
   "metadata": {
    "collapsed": true
   },
   "outputs": [],
   "source": [
    "n_estimators = 1000\n",
    "\n",
    "hyperparameter = 'max features'\n",
    "\n",
    "#schedule = [1,2,3,5,10,20,30,50,None] #depth\n",
    "\n",
    "#schedule = [1,2,3,5,10,20,]#30,50,None] #depth\n",
    "\n",
    "schedule = ['sqrt','auto',0.16,0.33,0.5,0.67] #max_features\n",
    "\n",
    "#schedule = [2,5,10,20,50,100] #min_samples_split\n",
    "\n",
    "#schedule = [1e-7,1e-6,1e-5,1e-4,1e-2,1e-1] #min_impurity_split\n",
    "\n",
    "oob_scores = np.zeros(len(schedule))\n",
    "inb_scores = np.zeros_like(oob_scores)\n",
    "transformed_X = sklearn.decomposition.PCA(n_components=100,whiten=False).fit_transform(X)\n",
    "\n",
    "for schedule_idx, value in enumerate(schedule):\n",
    "    RFR_model = sklearn.ensemble.RandomForestRegressor(min_impurity_split=1e-5,\n",
    "                                                       n_estimators=n_estimators,\n",
    "                                                       min_samples_split=2,\n",
    "                                                       max_depth=15,\n",
    "                                                       min_samples_leaf=0.001,\n",
    "                                                       max_features=value,\n",
    "                                                       n_jobs=-1,\n",
    "                                                       oob_score=True)\n",
    "    \n",
    "    \n",
    "    RFR_model.fit(transformed_X,y)\n",
    "    oob_scores[schedule_idx] = RFR_model.oob_score_\n",
    "    inb_scores[schedule_idx] = RFR_model.score(transformed_X,y)"
   ]
  },
  {
   "cell_type": "code",
   "execution_count": 48,
   "metadata": {},
   "outputs": [
    {
     "data": {
      "image/png": "[encoded data removed]",
      "text/plain": [
       "<matplotlib.figure.Figure at 0x12d986be0>"
      ]
     },
     "metadata": {},
     "output_type": "display_data"
    }
   ],
   "source": [
    "hyperparameter = 'max features'\n",
    "#plot_indices = schedule\n",
    "plot_indices = list(range(len(schedule))) # for max_features only\n",
    "\n",
    "plt.semilogx(plot_indices,inb_scores,linewidth=4,label='train')\n",
    "plt.semilogx(plot_indices,oob_scores,linewidth=4,label='test')\n",
    "\n",
    "plt.semilogx(plot_indices,[0.68]*len(plot_indices),linewidth=4,color='k',label='Best Linear Model')\n",
    "\n",
    "#plt.xticks(plot_indices,[str(val) for val in schedule]);\n",
    "plt.xlabel(hyperparameter); plt.ylabel(r'$R^2$ OOB'); plt.legend()\n",
    "plt.title(\"Performance Across\" + hyperparameter + \" for Compressed Data, \"+ str(n_estimators)+ \" Trees\");\n"
   ]
  },
  {
   "cell_type": "code",
   "execution_count": 49,
   "metadata": {},
   "outputs": [
    {
     "name": "stderr",
     "output_type": "stream",
     "text": [
      "/Applications/anaconda/lib/python3.6/site-packages/sklearn/ensemble/forest.py:723: UserWarning: Some inputs do not have OOB scores. This probably means too few trees were used to compute any reliable oob estimates.\n",
      "  warn(\"Some inputs do not have OOB scores. \"\n",
      "/Applications/anaconda/lib/python3.6/site-packages/sklearn/ensemble/forest.py:723: UserWarning: Some inputs do not have OOB scores. This probably means too few trees were used to compute any reliable oob estimates.\n",
      "  warn(\"Some inputs do not have OOB scores. \"\n"
     ]
    }
   ],
   "source": [
    "#n_estimators = 1000\n",
    "\n",
    "hyperparameter = 'n_estimators'\n",
    "\n",
    "schedule=[1,10,100,1000,5000,10000]\n",
    "#schedule = [1,2,3,5,10,20,30,50,None] #depth\n",
    "\n",
    "#schedule = [1,2,3,5,10,20,]#30,50,None] #depth\n",
    "\n",
    "#schedule = ['sqrt','auto',0.16,0.33,0.5,0.67] #max_features\n",
    "\n",
    "#schedule = [2,5,10,20,50,100] #min_samples_split\n",
    "\n",
    "#schedule = [1e-7,1e-6,1e-5,1e-4,1e-2,1e-1] #min_impurity_split\n",
    "\n",
    "oob_scores = np.zeros(len(schedule))\n",
    "inb_scores = np.zeros_like(oob_scores)\n",
    "transformed_X = sklearn.decomposition.PCA(n_components=100,whiten=False).fit_transform(X)\n",
    "\n",
    "for schedule_idx, value in enumerate(schedule):\n",
    "    RFR_model = sklearn.ensemble.RandomForestRegressor(min_impurity_split=1e-5,\n",
    "                                                       n_estimators=value,\n",
    "                                                       min_samples_split=2,\n",
    "                                                       max_depth=15,\n",
    "                                                       min_samples_leaf=0.001,\n",
    "                                                       max_features=0.33,\n",
    "                                                       n_jobs=-1,\n",
    "                                                       oob_score=True)\n",
    "    \n",
    "    \n",
    "    RFR_model.fit(transformed_X,y)\n",
    "    oob_scores[schedule_idx] = RFR_model.oob_score_\n",
    "    inb_scores[schedule_idx] = RFR_model.score(transformed_X,y)"
   ]
  },
  {
   "cell_type": "code",
   "execution_count": 50,
   "metadata": {},
   "outputs": [
    {
     "data": {
      "image/png": "[encoded data removed]",
      "text/plain": [
       "<matplotlib.figure.Figure at 0x121dcd400>"
      ]
     },
     "metadata": {},
     "output_type": "display_data"
    }
   ],
   "source": [
    "\n",
    "plot_indices = schedule\n",
    "#plot_indices = list(range(len(schedule))) # for max_features only\n",
    "\n",
    "plt.semilogx(plot_indices,inb_scores,linewidth=4,label='train')\n",
    "plt.semilogx(plot_indices,oob_scores,linewidth=4,label='test')\n",
    "\n",
    "plt.semilogx(plot_indices,[0.68]*len(plot_indices),linewidth=4,color='k',label='Best Linear Model')\n",
    "\n",
    "#plt.xticks(plot_indices,[str(val) for val in schedule]);\n",
    "plt.xlabel(hyperparameter); plt.ylabel(r'$R^2$ OOB'); plt.legend()\n",
    "plt.title(\"Performance Across\" + hyperparameter + \" for Compressed Data, \"+ str(n_estimators)+ \" Trees\");"
   ]
  },
  {
   "cell_type": "code",
   "execution_count": 45,
   "metadata": {},
   "outputs": [
    {
     "data": {
      "text/plain": [
       "[<matplotlib.lines.Line2D at 0x12daa2cf8>]"
      ]
     },
     "execution_count": 45,
     "metadata": {},
     "output_type": "execute_result"
    },
    {
     "data": {
      "image/png": "[encoded data removed]",
      "text/plain": [
       "<matplotlib.figure.Figure at 0x11d0a7ba8>"
      ]
     },
     "metadata": {},
     "output_type": "display_data"
    }
   ],
   "source": [
    "plt.plot(RFR_model.feature_importances_)"
   ]
  },
  {
   "cell_type": "markdown",
   "metadata": {},
   "source": [
    "### Cross-validation, randomly subsampled data"
   ]
  },
  {
   "cell_type": "code",
   "execution_count": 32,
   "metadata": {
    "collapsed": true
   },
   "outputs": [],
   "source": [
    "n_estimators = 1000\n",
    "\n",
    "hyperparameter = 'Depth'\n",
    "\n",
    "#schedule = [1,2,3,5,10,20,30,50,None] #depth\n",
    "\n",
    "schedule = [1,2,3,5,10,20,]#30,50,None] #depth\n",
    "\n",
    "#schedule = ['sqrt','auto',0.16,0.33,0.5,0.67] #max_features\n",
    "\n",
    "#schedule = [2,5,10,20,50,100] #min_samples_split\n",
    "\n",
    "#schedule = [1e-7,1e-6,1e-5,1e-4,1e-2,1e-1] #min_impurity_split\n",
    "\n",
    "oob_scores = np.zeros(len(schedule))\n",
    "inb_scores = np.zeros_like(oob_scores)\n",
    "\n",
    "for schedule_idx, value in enumerate(schedule):\n",
    "    RFR_model = sklearn.ensemble.RandomForestRegressor(min_impurity_split=1e-5,\n",
    "                                                       n_estimators=n_estimators,\n",
    "                                                       min_samples_split=2,\n",
    "                                                       max_depth=value,\n",
    "                                                       min_samples_leaf=0.001,\n",
    "                                                       max_features=0.33,\n",
    "                                                       n_jobs=-1,\n",
    "                                                       oob_score=True)\n",
    "    \n",
    "    RFR_model.fit(random_X,y)\n",
    "    oob_scores[schedule_idx] = RFR_model.oob_score_\n",
    "    inb_scores[schedule_idx] = RFR_model.score(transformed_X,y)"
   ]
  },
  {
   "cell_type": "code",
   "execution_count": 35,
   "metadata": {},
   "outputs": [
    {
     "data": {
      "image/png": "[encoded data removed]",
      "text/plain": [
       "<matplotlib.figure.Figure at 0x11d7f3b38>"
      ]
     },
     "metadata": {},
     "output_type": "display_data"
    }
   ],
   "source": [
    "plt.plot(plot_indices,inb_scores,linewidth=4,label='train')\n",
    "plt.plot(plot_indices,oob_scores,linewidth=4,label='test')\n",
    "\n",
    "#plt.semilogx(plot_indices,[0.68]*len(plot_indices),linewidth=4,color='k',label='Best Linear Model')\n",
    "\n",
    "#plt.xticks(plot_indices,[str(val) for val in schedule]);\n",
    "plt.xlabel(hyperparameter); plt.ylabel(r'$R^2$ OOB'); plt.legend()\n",
    "plt.title(\"Performance Across\" + hyperparameter + \" for Subsampled Data, \"+ str(n_estimators)+ \" Trees\");"
   ]
  },
  {
   "cell_type": "markdown",
   "metadata": {},
   "source": [
    "### Use random search optimization to find best parameters for this model"
   ]
  },
  {
   "cell_type": "code",
   "execution_count": 51,
   "metadata": {
    "collapsed": true
   },
   "outputs": [],
   "source": [
    "from sklearn.model_selection import RandomizedSearchCV\n",
    "from time import time"
   ]
  },
  {
   "cell_type": "code",
   "execution_count": 76,
   "metadata": {
    "scrolled": true
   },
   "outputs": [
    {
     "data": {
      "text/html": [
       "<div>\n",
       "<style>\n",
       "    .dataframe thead tr:only-child th {\n",
       "        text-align: right;\n",
       "    }\n",
       "\n",
       "    .dataframe thead th {\n",
       "        text-align: left;\n",
       "    }\n",
       "\n",
       "    .dataframe tbody tr th {\n",
       "        vertical-align: top;\n",
       "    }\n",
       "</style>\n",
       "<table border=\"1\" class=\"dataframe\">\n",
       "  <thead>\n",
       "    <tr style=\"text-align: right;\">\n",
       "      <th></th>\n",
       "      <th>mean_fit_time</th>\n",
       "      <th>mean_score_time</th>\n",
       "      <th>mean_test_score</th>\n",
       "      <th>mean_train_score</th>\n",
       "      <th>param_max_depth</th>\n",
       "      <th>param_max_features</th>\n",
       "      <th>param_min_impurity_split</th>\n",
       "      <th>param_min_samples_split</th>\n",
       "      <th>params</th>\n",
       "      <th>rank_test_score</th>\n",
       "      <th>split0_test_score</th>\n",
       "      <th>split0_train_score</th>\n",
       "      <th>split1_test_score</th>\n",
       "      <th>split1_train_score</th>\n",
       "      <th>split2_test_score</th>\n",
       "      <th>split2_train_score</th>\n",
       "      <th>std_fit_time</th>\n",
       "      <th>std_score_time</th>\n",
       "      <th>std_test_score</th>\n",
       "      <th>std_train_score</th>\n",
       "    </tr>\n",
       "  </thead>\n",
       "  <tbody>\n",
       "    <tr>\n",
       "      <th>0</th>\n",
       "      <td>72.873369</td>\n",
       "      <td>0.315753</td>\n",
       "      <td>-0.254644</td>\n",
       "      <td>0.243613</td>\n",
       "      <td>1</td>\n",
       "      <td>auto</td>\n",
       "      <td>1e-05</td>\n",
       "      <td>20</td>\n",
       "      <td>{'min_samples_split': 20, 'min_impurity_split'...</td>\n",
       "      <td>19</td>\n",
       "      <td>0.095776</td>\n",
       "      <td>0.207342</td>\n",
       "      <td>-0.109886</td>\n",
       "      <td>0.277577</td>\n",
       "      <td>-0.751107</td>\n",
       "      <td>0.245919</td>\n",
       "      <td>0.880437</td>\n",
       "      <td>0.001923</td>\n",
       "      <td>0.360520</td>\n",
       "      <td>0.028720</td>\n",
       "    </tr>\n",
       "    <tr>\n",
       "      <th>1</th>\n",
       "      <td>21.918058</td>\n",
       "      <td>0.317305</td>\n",
       "      <td>-0.242143</td>\n",
       "      <td>0.245116</td>\n",
       "      <td>1</td>\n",
       "      <td>0.16</td>\n",
       "      <td>0.0001</td>\n",
       "      <td>5</td>\n",
       "      <td>{'min_samples_split': 5, 'min_impurity_split':...</td>\n",
       "      <td>18</td>\n",
       "      <td>0.097743</td>\n",
       "      <td>0.207700</td>\n",
       "      <td>-0.074209</td>\n",
       "      <td>0.281453</td>\n",
       "      <td>-0.751281</td>\n",
       "      <td>0.246195</td>\n",
       "      <td>0.203720</td>\n",
       "      <td>0.000909</td>\n",
       "      <td>0.366343</td>\n",
       "      <td>0.030119</td>\n",
       "    </tr>\n",
       "    <tr>\n",
       "      <th>2</th>\n",
       "      <td>52.278701</td>\n",
       "      <td>0.327375</td>\n",
       "      <td>-0.058953</td>\n",
       "      <td>0.425926</td>\n",
       "      <td>2</td>\n",
       "      <td>0.33</td>\n",
       "      <td>1e-06</td>\n",
       "      <td>10</td>\n",
       "      <td>{'min_samples_split': 10, 'min_impurity_split'...</td>\n",
       "      <td>14</td>\n",
       "      <td>0.175368</td>\n",
       "      <td>0.372717</td>\n",
       "      <td>0.154887</td>\n",
       "      <td>0.460592</td>\n",
       "      <td>-0.508278</td>\n",
       "      <td>0.444468</td>\n",
       "      <td>0.528789</td>\n",
       "      <td>0.000391</td>\n",
       "      <td>0.317419</td>\n",
       "      <td>0.038196</td>\n",
       "    </tr>\n",
       "    <tr>\n",
       "      <th>3</th>\n",
       "      <td>435.581850</td>\n",
       "      <td>0.334271</td>\n",
       "      <td>0.057186</td>\n",
       "      <td>0.806662</td>\n",
       "      <td>10</td>\n",
       "      <td>auto</td>\n",
       "      <td>1e-07</td>\n",
       "      <td>20</td>\n",
       "      <td>{'min_samples_split': 20, 'min_impurity_split'...</td>\n",
       "      <td>7</td>\n",
       "      <td>0.350647</td>\n",
       "      <td>0.807935</td>\n",
       "      <td>0.276885</td>\n",
       "      <td>0.786218</td>\n",
       "      <td>-0.457306</td>\n",
       "      <td>0.825832</td>\n",
       "      <td>20.614107</td>\n",
       "      <td>0.002058</td>\n",
       "      <td>0.364576</td>\n",
       "      <td>0.016197</td>\n",
       "    </tr>\n",
       "    <tr>\n",
       "      <th>4</th>\n",
       "      <td>102.221676</td>\n",
       "      <td>0.329033</td>\n",
       "      <td>-0.000334</td>\n",
       "      <td>0.558068</td>\n",
       "      <td>3</td>\n",
       "      <td>0.5</td>\n",
       "      <td>1e-06</td>\n",
       "      <td>5</td>\n",
       "      <td>{'min_samples_split': 5, 'min_impurity_split':...</td>\n",
       "      <td>10</td>\n",
       "      <td>0.231602</td>\n",
       "      <td>0.513628</td>\n",
       "      <td>0.185933</td>\n",
       "      <td>0.587975</td>\n",
       "      <td>-0.419624</td>\n",
       "      <td>0.572602</td>\n",
       "      <td>1.099967</td>\n",
       "      <td>0.004929</td>\n",
       "      <td>0.296685</td>\n",
       "      <td>0.032045</td>\n",
       "    </tr>\n",
       "  </tbody>\n",
       "</table>\n",
       "</div>"
      ],
      "text/plain": [
       "   mean_fit_time  mean_score_time  mean_test_score  mean_train_score  \\\n",
       "0      72.873369         0.315753        -0.254644          0.243613   \n",
       "1      21.918058         0.317305        -0.242143          0.245116   \n",
       "2      52.278701         0.327375        -0.058953          0.425926   \n",
       "3     435.581850         0.334271         0.057186          0.806662   \n",
       "4     102.221676         0.329033        -0.000334          0.558068   \n",
       "\n",
       "  param_max_depth param_max_features param_min_impurity_split  \\\n",
       "0               1               auto                    1e-05   \n",
       "1               1               0.16                   0.0001   \n",
       "2               2               0.33                    1e-06   \n",
       "3              10               auto                    1e-07   \n",
       "4               3                0.5                    1e-06   \n",
       "\n",
       "  param_min_samples_split                                             params  \\\n",
       "0                      20  {'min_samples_split': 20, 'min_impurity_split'...   \n",
       "1                       5  {'min_samples_split': 5, 'min_impurity_split':...   \n",
       "2                      10  {'min_samples_split': 10, 'min_impurity_split'...   \n",
       "3                      20  {'min_samples_split': 20, 'min_impurity_split'...   \n",
       "4                       5  {'min_samples_split': 5, 'min_impurity_split':...   \n",
       "\n",
       "   rank_test_score  split0_test_score  split0_train_score  split1_test_score  \\\n",
       "0               19           0.095776            0.207342          -0.109886   \n",
       "1               18           0.097743            0.207700          -0.074209   \n",
       "2               14           0.175368            0.372717           0.154887   \n",
       "3                7           0.350647            0.807935           0.276885   \n",
       "4               10           0.231602            0.513628           0.185933   \n",
       "\n",
       "   split1_train_score  split2_test_score  split2_train_score  std_fit_time  \\\n",
       "0            0.277577          -0.751107            0.245919      0.880437   \n",
       "1            0.281453          -0.751281            0.246195      0.203720   \n",
       "2            0.460592          -0.508278            0.444468      0.528789   \n",
       "3            0.786218          -0.457306            0.825832     20.614107   \n",
       "4            0.587975          -0.419624            0.572602      1.099967   \n",
       "\n",
       "   std_score_time  std_test_score  std_train_score  \n",
       "0        0.001923        0.360520         0.028720  \n",
       "1        0.000909        0.366343         0.030119  \n",
       "2        0.000391        0.317419         0.038196  \n",
       "3        0.002058        0.364576         0.016197  \n",
       "4        0.004929        0.296685         0.032045  "
      ]
     },
     "execution_count": 76,
     "metadata": {},
     "output_type": "execute_result"
    }
   ],
   "source": [
    "results=pd.DataFrame.from_dict(random_search.cv_results_) \n",
    "results.head()"
   ]
  },
  {
   "cell_type": "code",
   "execution_count": 67,
   "metadata": {},
   "outputs": [
    {
     "name": "stdout",
     "output_type": "stream",
     "text": [
      "RandomizedSearchCV took 5608.41 seconds for 20 candidates parameter settings.\n",
      "Model with rank: 1\n",
      "Mean validation score: 0.226 (std: 0.238)\n",
      "Parameters: {'min_samples_split': 10, 'min_impurity_split': 0.01, 'max_features': 'sqrt', 'max_depth': 10}\n",
      "\n",
      "Model with rank: 2\n",
      "Mean validation score: 0.184 (std: 0.218)\n",
      "Parameters: {'min_samples_split': 10, 'min_impurity_split': 1e-05, 'max_features': 'sqrt', 'max_depth': 5}\n",
      "\n",
      "Model with rank: 3\n",
      "Mean validation score: 0.138 (std: 0.329)\n",
      "Parameters: {'min_samples_split': 5, 'min_impurity_split': 1e-05, 'max_features': 0.16, 'max_depth': 10}\n",
      "\n"
     ]
    }
   ],
   "source": [
    "RFR_model = sklearn.ensemble.RandomForestRegressor(n_estimators=1000,\n",
    "                                                    n_jobs=-1,\n",
    "                                                       oob_score=True,\n",
    "                                                       min_samples_leaf=0.001,\n",
    "                                                    bootstrap=True)\n",
    "\n",
    "# Utility function to report best scores\n",
    "def report(results, n_top=3):\n",
    "    for i in range(1, n_top + 1):\n",
    "        candidates = np.flatnonzero(results['rank_test_score'] == i)\n",
    "        for candidate in candidates:\n",
    "            print(\"Model with rank: {0}\".format(i))\n",
    "            print(\"Mean validation score: {0:.3f} (std: {1:.3f})\".format(\n",
    "                  results['mean_test_score'][candidate],\n",
    "                  results['std_test_score'][candidate]))\n",
    "            print(\"Parameters: {0}\".format(results['params'][candidate]))\n",
    "            print(\"\")\n",
    "\n",
    "\n",
    "# specify parameters and distributions to sample from\n",
    "param_dist = {\"max_depth\": [1,2,3,5,10,20],\n",
    "              \"max_features\": ['sqrt','auto',0.16,0.33,0.5,0.67],\n",
    "              \"min_samples_split\": [2,5,10,20,50,100],\n",
    "              \"min_impurity_split\": [1e-7,1e-6,1e-5,1e-4,1e-2,1e-1]}\n",
    "\n",
    "# run randomized search\n",
    "n_iter_search = 20\n",
    "random_search = RandomizedSearchCV(RFR_model, param_distributions=param_dist,\n",
    "                                   n_iter=n_iter_search)\n",
    "\n",
    "start = time()\n",
    "random_search.fit(X, y)\n",
    "print(\"RandomizedSearchCV took %.2f seconds for %d candidates\"\n",
    "      \" parameter settings.\" % ((time() - start), n_iter_search))\n",
    "report(random_search.cv_results_)"
   ]
  },
  {
   "cell_type": "code",
   "execution_count": 70,
   "metadata": {},
   "outputs": [
    {
     "data": {
      "text/plain": [
       "0.22631441979289485"
      ]
     },
     "execution_count": 70,
     "metadata": {},
     "output_type": "execute_result"
    }
   ],
   "source": [
    "random_search.best_score_\n"
   ]
  },
  {
   "cell_type": "code",
   "execution_count": 57,
   "metadata": {},
   "outputs": [
    {
     "data": {
      "text/plain": [
       "3"
      ]
     },
     "execution_count": 57,
     "metadata": {},
     "output_type": "execute_result"
    }
   ],
   "source": [
    "random_search.n_splits_"
   ]
  },
  {
   "cell_type": "markdown",
   "metadata": {},
   "source": [
    "### get score for model with best parameters"
   ]
  },
  {
   "cell_type": "code",
   "execution_count": 71,
   "metadata": {},
   "outputs": [
    {
     "data": {
      "text/plain": [
       "{'max_depth': 10,\n",
       " 'max_features': 'sqrt',\n",
       " 'min_impurity_split': 0.01,\n",
       " 'min_samples_split': 10}"
      ]
     },
     "execution_count": 71,
     "metadata": {},
     "output_type": "execute_result"
    }
   ],
   "source": [
    "random_search.best_params_"
   ]
  },
  {
   "cell_type": "code",
   "execution_count": 72,
   "metadata": {},
   "outputs": [
    {
     "name": "stdout",
     "output_type": "stream",
     "text": [
      "0.639912466236\n"
     ]
    }
   ],
   "source": [
    "params_use=random_search.best_params_\n",
    "RFR_model=sklearn.ensemble.RandomForestRegressor(**params_use,\n",
    "                                                n_estimators=1000,\n",
    "                                                 min_samples_leaf=0.001,\n",
    "                                                  n_jobs=-1,\n",
    "                                                 oob_score=True)\n",
    "\n",
    "RFR_model.fit(X,y)\n",
    "print(RFR_model.oob_score_)\n",
    "    "
   ]
  }
 ],
 "metadata": {
  "kernelspec": {
   "display_name": "Python 3",
   "language": "python",
   "name": "python3"
  },
  "language_info": {
   "codemirror_mode": {
    "name": "ipython",
    "version": 3
   },
   "file_extension": ".py",
   "mimetype": "text/x-python",
   "name": "python",
   "nbconvert_exporter": "python",
   "pygments_lexer": "ipython3",
   "version": "3.6.1"
  }
 },
 "nbformat": 4,
 "nbformat_minor": 2
}

{
 "cells": [
  {
   "cell_type": "markdown",
   "metadata": {},
   "source": [
    "![banner](img/cdips_2017_logo.png)"
   ]
  },
  {
   "cell_type": "markdown",
   "metadata": {},
   "source": [
    "## Introduction"
   ]
  },
  {
   "cell_type": "markdown",
   "metadata": {},
   "source": [
    "This notebook serves as an introduction to the soil properties dataset\n",
    "and presents the top-line results for all of our models.\n",
    "\n",
    "Links to the other notebooks in this repo are included throughout."
   ]
  },
  {
   "cell_type": "markdown",
   "metadata": {},
   "source": [
    "We'd like to thank the\n",
    "[Africa Soil Information Service](http://africasoils.net/)\n",
    "for collecting and cleaning the data,\n",
    "[Kaggle](kaggle.com/c/afsis-soil-properties)\n",
    "for hosting the data,\n",
    "and the\n",
    "[UC Berkeley Career Development Initiative in the Physical Sciences](CDIPS.physics.berkeley.edu)\n",
    "for running the\n",
    "[Data Science Workshop](CDIPS.physics.berkeley.edu/2017-cdips-data-science-workshop/)\n",
    "for which these materials were originally prepared."
   ]
  },
  {
   "cell_type": "markdown",
   "metadata": {},
   "source": [
    "## Software Tools"
   ]
  },
  {
   "cell_type": "markdown",
   "metadata": {},
   "source": [
    "To make this repo broadly relevant,\n",
    "we used a technology stack that is,\n",
    "as of Summer 2017,\n",
    "representative of the stacks used for data science\n",
    "in Python.\n",
    "\n",
    "A brief description of the tools appears below,\n",
    "along with links to educational materials.\n",
    "For a general overview of tools used to perform\n",
    "data science in Python,\n",
    "check out\n",
    "[this GitHub repo](https://github.com/donnemartin/data-science-ipython-notebooks)."
   ]
  },
  {
   "cell_type": "markdown",
   "metadata": {},
   "source": [
    "#### pandas\n",
    "[pandas](http://pandas.pydata.org/)\n",
    "is a data management and analysis library that provides easy-to-use, performant data tables. Brandon Rhodes'\n",
    "[2015 PyCon tutorial](https://github.com/brandon-rhodes/pycon-pandas-tutorial)\n",
    "is a great, principled introduction to pandas \"from the ground up\"."
   ]
  },
  {
   "cell_type": "markdown",
   "metadata": {},
   "source": [
    "#### numpy\n",
    "[numpy](http://www.numpy.org/)\n",
    "is a highly performant array-manipulation library.\n",
    "Justin Johnson's\n",
    "[tutorial](http://cs231n.github.io/python-numpy-tutorial/)\n",
    "is an excellent resource for folks with a moderate amount of\n",
    "prior programming experience,\n",
    "while the\n",
    "[numpy for MATLAB users](https://docs.scipy.org/doc/numpy-dev/user/numpy-for-matlab-users.html)\n",
    "page of the numpy documentation is useful for folks\n",
    "coming from that language."
   ]
  },
  {
   "cell_type": "markdown",
   "metadata": {},
   "source": [
    "#### scikit-learn\n",
    "[scikit-learn](http://scikit-learn.org/stable/)\n",
    "is a machine learning and data analysis library\n",
    "that implements most popular models and various forms\n",
    "of cross-validation and data pipelining.\n",
    "[The documentation](http://scikit-learn.org/stable/documentation.html)\n",
    "is excellent and includes a number of great tutorials\n",
    "on data science methods.\n",
    "scikit-learn works well with both pandas and numpy."
   ]
  },
  {
   "cell_type": "markdown",
   "metadata": {},
   "source": [
    "#### matplotlib + seaborn\n",
    "[matplotlib](http://matplotlib.org/)\n",
    "is a highly flexible plotting library\n",
    "based on MATLAB's plotting functionality.\n",
    "In part because of its flexibility,\n",
    "it can be somewhat tough to get used to.\n",
    "[seaborn](seaborn.pydata.org)\n",
    "is a more specialized plotting library\n",
    "for statistical data visualization\n",
    "built on top of matplotlib,\n",
    "and has\n",
    "[excellent documentation](http://seaborn.pydata.org/tutorial.html)."
   ]
  },
  {
   "cell_type": "markdown",
   "metadata": {},
   "source": [
    "#### Jupyter notebooks\n",
    "This document is a\n",
    "[Jupyter notebook](http://jupyter-notebook.readthedocs.io/en/stable/).\n",
    "Jupyter notebooks allow the seamless\n",
    "integration of text, media, and interactive code blocks.\n",
    "Though notebooks can be used with almost\n",
    "[any language](https://github.com/jupyter/jupyter/wiki/Jupyter-kernels),\n",
    "they are particularly popular in the Python community,\n",
    "especially for educational and research-communication purposes."
   ]
  },
  {
   "cell_type": "markdown",
   "metadata": {},
   "source": [
    "#### binder\n",
    "[binder](http://docs.mybinder.org/)\n",
    "is a tool for easily producing reproducible,\n",
    "interactive\n",
    "executable environments\n",
    "by combining\n",
    "[Docker](https://www.docker.com/)\n",
    "with\n",
    "[Jupyter Hub](https://jupyterhub.readthedocs.io/en/latest/).\n",
    "This repository is hosted on a binder instance\n",
    "maintained by\n",
    "[HHMI Janelia](https://www.janelia.org/),\n",
    "which provides free compute for educational and scientific purposes."
   ]
  },
  {
   "cell_type": "code",
   "execution_count": 21,
   "metadata": {
    "collapsed": true
   },
   "outputs": [],
   "source": [
    "import numpy as np\n",
    "import pandas as pd\n",
    "import sklearn\n",
    "\n",
    "import matplotlib.pyplot as plt\n",
    "import seaborn as sns\n",
    "\n",
    "sns.set(font_scale=2)\n",
    "\n",
    "%run notebooks/scripts/load_data.py\n",
    "%run notebooks/scripts/comparison.py\n",
    "%matplotlib inline"
   ]
  },
  {
   "cell_type": "code",
   "execution_count": 2,
   "metadata": {
    "collapsed": true
   },
   "outputs": [],
   "source": [
    "import sklearn.decomposition\n",
    "\n",
    "import sklearn.linear_model\n",
    "import sklearn.neural_network\n",
    "import sklearn.svm\n",
    "import sklearn.ensemble"
   ]
  },
  {
   "cell_type": "markdown",
   "metadata": {},
   "source": [
    "## Data Visualization"
   ]
  },
  {
   "cell_type": "code",
   "execution_count": 3,
   "metadata": {
    "collapsed": true
   },
   "outputs": [],
   "source": [
    "X, y = load_training_spectra('./data/training.csv')"
   ]
  },
  {
   "cell_type": "markdown",
   "metadata": {},
   "source": [
    "Add data visualizations here."
   ]
  },
  {
   "cell_type": "markdown",
   "metadata": {},
   "source": [
    "See more visualizations of the data in\n",
    "[this notebook](link)."
   ]
  },
  {
   "cell_type": "markdown",
   "metadata": {},
   "source": [
    "## Data Pre-Processing"
   ]
  },
  {
   "cell_type": "markdown",
   "metadata": {},
   "source": [
    "Absorption was measured at over 3,000 wavelengths,\n",
    "resuling in very rich data vectors.\n",
    "This richness comes at a price.\n",
    "\n",
    "Though we have 3,000 dimensional inputs,\n",
    "we have only 1,000 data vectors.\n",
    "For some models, like\n",
    "[linear regression](link)\n",
    "this will lead to\n",
    "*over-fitting* -\n",
    "a model that predicts\n",
    "soil properties for previously-seen samples\n",
    "extremely well,\n",
    "but fails to predict soil properties accurately\n",
    "for samples it has never seen before.\n",
    "\n",
    "For other models, like\n",
    "[random forest regression](link),\n",
    "having many individually uninformative input dimensions\n",
    "reduces performance.\n",
    "\n",
    "And for all models, but especially\n",
    "[support vector methods](link)\n",
    "and\n",
    "[neural networks](link),\n",
    "more input dimensions\n",
    "means more time spent training."
   ]
  },
  {
   "cell_type": "markdown",
   "metadata": {},
   "source": [
    "We could resolve this by smoothing and down-sampling,\n",
    "but many of the spectra contain sharp,\n",
    "precisely-located peaks\n",
    "that we'd rather not smooth over.\n",
    "\n",
    "Instead, we use\n",
    "[Principal Components Analysis](link),\n",
    "or PCA,\n",
    "to reduce the size of our data vectors\n",
    "while trying to retain as much information as possible."
   ]
  },
  {
   "cell_type": "code",
   "execution_count": 4,
   "metadata": {
    "collapsed": true
   },
   "outputs": [],
   "source": [
    "PCA_transform = sklearn.decomposition.PCA(n_components=100)"
   ]
  },
  {
   "cell_type": "markdown",
   "metadata": {},
   "source": [
    "## Models"
   ]
  },
  {
   "cell_type": "markdown",
   "metadata": {},
   "source": [
    "#### Linear Regression"
   ]
  },
  {
   "cell_type": "markdown",
   "metadata": {},
   "source": [
    "Text goes here."
   ]
  },
  {
   "cell_type": "code",
   "execution_count": 5,
   "metadata": {
    "collapsed": true
   },
   "outputs": [],
   "source": [
    "linear_model = sklearn.linear_model.LinearRegression()"
   ]
  },
  {
   "cell_type": "markdown",
   "metadata": {},
   "source": [
    "#### Neural Network"
   ]
  },
  {
   "cell_type": "markdown",
   "metadata": {},
   "source": [
    "The resurgence of\n",
    "[neural networks](link)\n",
    "is one of the most exciting new developments\n",
    "in machine learning in the past decade,\n",
    "finding applications as diverse as\n",
    "[beating human beings at Go](https://www.blog.google/topics/machine-learning/what-we-learned-in-seoul-with-alphago/),\n",
    "[creating visual art](https://deepart.io/),\n",
    "and\n",
    "[operating autonomous vehicles](https://blogs.nvidia.com/blog/2016/05/06/self-driving-cars-3/).\n",
    "\n",
    "Neural networks perform best in situations\n",
    "with large datasets of very rich, structured data vectors\n",
    "composed of many individually-uninformative dimensions.\n",
    "However, we were still able to get decent performance\n",
    "on this smaller dataset by\n",
    "[carefully tuning hyperparameters](link)."
   ]
  },
  {
   "cell_type": "code",
   "execution_count": 6,
   "metadata": {
    "collapsed": true
   },
   "outputs": [],
   "source": [
    "neural_network = sklearn.neural_network.MLPRegressor(activation = 'relu',\n",
    "                                                     alpha = 0.0001,\n",
    "                                                     batch_size = 16,\n",
    "                                                     beta_1 = 0.9,\n",
    "                                                     beta_2= 0.99,\n",
    "                                                     early_stopping = False,\n",
    "                                                     hidden_layer_sizes = 100,\n",
    "                                                     learning_rate_init = 0.0001,\n",
    "                                                     max_iter = 10000,\n",
    "                                                     tol = 1e-16)"
   ]
  },
  {
   "cell_type": "markdown",
   "metadata": {},
   "source": [
    "#### Random Forest"
   ]
  },
  {
   "cell_type": "markdown",
   "metadata": {},
   "source": [
    "Text goes here."
   ]
  },
  {
   "cell_type": "code",
   "execution_count": 7,
   "metadata": {
    "collapsed": true
   },
   "outputs": [],
   "source": [
    "random_forest = sklearn.ensemble.RandomForestRegressor()"
   ]
  },
  {
   "cell_type": "markdown",
   "metadata": {},
   "source": [
    "#### Gradient-Boosted Trees"
   ]
  },
  {
   "cell_type": "markdown",
   "metadata": {},
   "source": [
    "Text goes here."
   ]
  },
  {
   "cell_type": "code",
   "execution_count": 8,
   "metadata": {},
   "outputs": [],
   "source": [
    "num_outputs = y.shape[1]\n",
    "\n",
    "GBR_models = [sklearn.ensemble.GradientBoostingRegressor(n_estimators=5000,\n",
    "                                                    max_depth=3,\n",
    "                                                    min_samples_split=10,\n",
    "                                                    min_samples_leaf=3,\n",
    "                                                    max_features=0.8,\n",
    "                                                    learning_rate=0.005)\n",
    "                                              for _ in range(num_outputs)]"
   ]
  },
  {
   "cell_type": "markdown",
   "metadata": {},
   "source": [
    "#### Support Vector Machine"
   ]
  },
  {
   "cell_type": "markdown",
   "metadata": {},
   "source": [
    "[Support Vector Machines](link)\n",
    "are a core component of the machine learning toolkit,\n",
    "but they are primarily used for\n",
    "classification tasks,\n",
    "where the output is a label,\n",
    "rather than regression tasks like this one,\n",
    "where the outputs are numbers.\n",
    "\n",
    "Additionally,\n",
    "like gradient boosted trees,\n",
    "support vector regression models\n",
    "can only predict a single output,\n",
    "rather than multiple outputs.\n",
    "This meant that we had to train one model\n",
    "for calcium content,\n",
    "one for pH,\n",
    "and so on.\n",
    "\n",
    "Despite this handicap,\n",
    "[by tuning hyperparameters](link)\n",
    "we were able to get good performance\n",
    "from our ensemble of support vector machines."
   ]
  },
  {
   "cell_type": "code",
   "execution_count": 13,
   "metadata": {
    "collapsed": true
   },
   "outputs": [],
   "source": [
    "num_outputs = y.shape[1]\n",
    "\n",
    "C = 100; epsilon=1e-1; gamma=1e-2;\n",
    "SVR_models = [sklearn.svm.SVR(kernel='rbf',\n",
    "                            C=C, epsilon=epsilon, gamma=gamma) for _ in range(num_outputs)]"
   ]
  },
  {
   "cell_type": "markdown",
   "metadata": {},
   "source": [
    "### Model Comparison"
   ]
  },
  {
   "cell_type": "markdown",
   "metadata": {},
   "source": [
    "We compare our models by running random-split\n",
    "[cross-validation](link).\n",
    "We get out two metrics:\n",
    "the *training score*,\n",
    "which tells us how well the model\n",
    "can predict the soil properties\n",
    "for spectra it has seen before,\n",
    "and\n",
    "the *test score*,\n",
    "which estimates how well the model\n",
    "will predict the soil properties\n",
    "for novel spectra."
   ]
  },
  {
   "cell_type": "code",
   "execution_count": 23,
   "metadata": {
    "collapsed": true
   },
   "outputs": [],
   "source": [
    "models = [linear_model, neural_network, random_forest, GBR_models, SVR_models]\n",
    "model_names = ['Linear Model', 'Neural Network', 'Random Forest',\n",
    "              'Gradient-Boosted Trees', 'Support Vector Machine']\n",
    "\n",
    "num_splits = 10"
   ]
  },
  {
   "cell_type": "code",
   "execution_count": 24,
   "metadata": {
    "collapsed": true
   },
   "outputs": [],
   "source": [
    "train_scores, test_scores = compare_models(\n",
    "                            models, model_names, PCA_transform,\n",
    "                                X, y, num_splits=num_splits)"
   ]
  },
  {
   "cell_type": "code",
   "execution_count": 25,
   "metadata": {},
   "outputs": [
    {
     "data": {
      "image/png": "[encoded data removed]",
      "text/plain": [
       "<matplotlib.figure.Figure at 0x10e4f4c88>"
      ]
     },
     "metadata": {},
     "output_type": "display_data"
    }
   ],
   "source": [
    "comparison_plot(model_names, train_scores, test_scores)"
   ]
  },
  {
   "cell_type": "markdown",
   "metadata": {},
   "source": [
    "Error bars are ± standard deviation."
   ]
  },
  {
   "cell_type": "markdown",
   "metadata": {},
   "source": [
    "## Conclusions"
   ]
  },
  {
   "cell_type": "markdown",
   "metadata": {},
   "source": [
    "We were able to achieve performance in the top 10% of Kaggle competitors\n",
    "with two methods:\n",
    "neural networks\n",
    "and\n",
    "support vector machines.\n",
    "Considering that the winning methods\n",
    "used ensembles of up to hundreds of models,\n",
    "this performance is quite good.\n",
    "\n",
    "The performance of the linear model\n",
    "was actually quite good --\n",
    "a linear model is capable of explaining around 70% of the variance,\n",
    "occasionally out-performing the more sophisticated models.\n",
    "Since linear models are far more interpretable than the other models,\n",
    "it's likely that, in a business setting,\n",
    "we'd opt for the simple linear model.\n",
    "\n",
    "We were unable to get good performance from the tree-based methods --\n",
    "random forests and gradient-boosted trees.\n",
    "These models are better known for their good performance on classification tasks\n",
    "on collections of individually-relevant features,\n",
    "so perhaps this poor performance is to be expected."
   ]
  }
 ],
 "metadata": {
  "kernelspec": {
   "display_name": "Python 3",
   "language": "python",
   "name": "python3"
  },
  "language_info": {
   "codemirror_mode": {
    "name": "ipython",
    "version": 3
   },
   "file_extension": ".py",
   "mimetype": "text/x-python",
   "name": "python",
   "nbconvert_exporter": "python",
   "pygments_lexer": "ipython3",
   "version": "3.6.1"
  }
 },
 "nbformat": 4,
 "nbformat_minor": 2
}

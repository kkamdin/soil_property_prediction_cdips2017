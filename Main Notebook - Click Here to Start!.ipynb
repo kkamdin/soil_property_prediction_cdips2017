{
 "cells": [
  {
   "cell_type": "markdown",
   "metadata": {},
   "source": [
    "![banner](img/cdips_2017_logo.png)"
   ]
  },
  {
   "cell_type": "markdown",
   "metadata": {},
   "source": [
    "## Introduction"
   ]
  },
  {
   "cell_type": "markdown",
   "metadata": {},
   "source": [
    "This notebook serves as an introduction to the soil properties dataset\n",
    "and presents the top-line results for all of our models.\n",
    "\n",
    "Links to the other notebooks in this repo are included throughout."
   ]
  },
  {
   "cell_type": "markdown",
   "metadata": {},
   "source": [
    "We'd like to thank the\n",
    "[Africa Soil Information Service](http://africasoils.net/)\n",
    "for collecting and cleaning the data,\n",
    "[Kaggle](kaggle.com/c/afsis-soil-properties)\n",
    "for hosting the data,\n",
    "and the\n",
    "[UC Berkeley Career Development Initiative in the Physical Sciences](CDIPS.physics.berkeley.edu)\n",
    "for running the\n",
    "[Data Science Workshop](CDIPS.physics.berkeley.edu/2017-cdips-data-science-workshop/)\n",
    "for which these materials were originally prepared."
   ]
  },
  {
   "cell_type": "markdown",
   "metadata": {},
   "source": [
    "## Software Tools"
   ]
  },
  {
   "cell_type": "markdown",
   "metadata": {},
   "source": [
    "To make this repo broadly relevant,\n",
    "we used a technology stack that is,\n",
    "as of Summer 2017,\n",
    "representative of the stacks used for data science\n",
    "in Python.\n",
    "\n",
    "A brief description of the tools appears below,\n",
    "along with links to educational materials.\n",
    "For a general overview of tools used to perform\n",
    "data science in Python,\n",
    "check out\n",
    "[this GitHub repo](https://github.com/donnemartin/data-science-ipython-notebooks)."
   ]
  },
  {
   "cell_type": "markdown",
   "metadata": {},
   "source": [
    "#### pandas\n",
    "[pandas](http://pandas.pydata.org/)\n",
    "is a data management and analysis library that provides easy-to-use, performant data tables. Brandon Rhodes'\n",
    "[2015 PyCon tutorial](https://github.com/brandon-rhodes/pycon-pandas-tutorial)\n",
    "is a great, principled introduction to pandas \"from the ground up\"."
   ]
  },
  {
   "cell_type": "markdown",
   "metadata": {},
   "source": [
    "#### numpy\n",
    "[numpy](http://www.numpy.org/)\n",
    "is a highly performant array-manipulation library.\n",
    "Justin Johnson's\n",
    "[tutorial](http://cs231n.github.io/python-numpy-tutorial/)\n",
    "is an excellent resource for folks with a moderate amount of\n",
    "prior programming experience,\n",
    "while the\n",
    "[numpy for MATLAB users](https://docs.scipy.org/doc/numpy-dev/user/numpy-for-matlab-users.html)\n",
    "page of the numpy documentation is useful for folks\n",
    "coming from that language."
   ]
  },
  {
   "cell_type": "markdown",
   "metadata": {},
   "source": [
    "#### scikit-learn\n",
    "[scikit-learn](http://scikit-learn.org/stable/)\n",
    "is a machine learning and data analysis library\n",
    "that implements most popular models and various forms\n",
    "of cross-validation and data pipelining.\n",
    "[The documentation](http://scikit-learn.org/stable/documentation.html)\n",
    "is excellent and includes a number of great tutorials\n",
    "on data science methods.\n",
    "scikit-learn works well with both pandas and numpy."
   ]
  },
  {
   "cell_type": "markdown",
   "metadata": {},
   "source": [
    "#### matplotlib + seaborn\n",
    "[matplotlib](http://matplotlib.org/)\n",
    "is a highly flexible plotting library\n",
    "based on MATLAB's plotting functionality.\n",
    "In part because of its flexibility,\n",
    "it can be somewhat tough to get used to.\n",
    "[seaborn](seaborn.pydata.org)\n",
    "is a more specialized plotting library\n",
    "for statistical data visualization\n",
    "built on top of matplotlib,\n",
    "and has\n",
    "[excellent documentation](http://seaborn.pydata.org/tutorial.html)."
   ]
  },
  {
   "cell_type": "markdown",
   "metadata": {},
   "source": [
    "#### Jupyter notebooks\n",
    "This document is a\n",
    "[Jupyter notebook](http://jupyter-notebook.readthedocs.io/en/stable/).\n",
    "Jupyter notebooks allow the seamless\n",
    "integration of text, media, and interactive code blocks.\n",
    "Though notebooks can be used with almost\n",
    "[any language](https://github.com/jupyter/jupyter/wiki/Jupyter-kernels),\n",
    "they are particularly popular in the Python community,\n",
    "especially for educational and research-communication purposes."
   ]
  },
  {
   "cell_type": "markdown",
   "metadata": {},
   "source": [
    "#### binder\n",
    "[binder](http://docs.mybinder.org/)\n",
    "is a tool for easily producing reproducible,\n",
    "interactive\n",
    "executable environments\n",
    "by combining\n",
    "[Docker](https://www.docker.com/)\n",
    "with\n",
    "[Jupyter Hub](https://jupyterhub.readthedocs.io/en/latest/).\n",
    "This repository is hosted on a binder instance\n",
    "maintained by\n",
    "[HHMI Janelia](https://www.janelia.org/),\n",
    "which provides free compute for educational and scientific purposes."
   ]
  },
  {
   "cell_type": "code",
   "execution_count": 1,
   "metadata": {
    "collapsed": true
   },
   "outputs": [],
   "source": [
    "import numpy as np\n",
    "import pandas as pd\n",
    "import sklearn\n",
    "\n",
    "import matplotlib.pyplot as plt\n",
    "import seaborn as sns\n",
    "\n",
    "sns.set(font_scale=2)\n",
    "\n",
    "%run notebooks/scripts/load_data.py\n",
    "%run notebooks/scripts/comparison.py\n",
    "%matplotlib inline"
   ]
  },
  {
   "cell_type": "code",
   "execution_count": 2,
   "metadata": {
    "collapsed": true
   },
   "outputs": [],
   "source": [
    "import sklearn.decomposition\n",
    "\n",
    "import sklearn.linear_model\n",
    "import sklearn.neural_network\n",
    "import sklearn.svm\n",
    "import sklearn.ensemble"
   ]
  },
  {
   "cell_type": "markdown",
   "metadata": {},
   "source": [
    "## The Problem"
   ]
  },
  {
   "cell_type": "markdown",
   "metadata": {},
   "source": [
    "The chemical properties of soil are\n",
    "[critically important](https://soils.org/files/science-policy/sssa-marketing-2013.pdf)\n",
    "for predicting crop yields,\n",
    "determining ecological health and environmental impact,\n",
    "and planning agriculture and food supply.\n",
    "Unfortunately, determining the chemical properties of soil is expensive and time-consuming.\n",
    "\n",
    "In principle, information about the chemical properties of a substance can be found by looking at the\n",
    "[absorption spectrum](https://en.wikipedia.org/wiki/Infrared_spectroscopy) --\n",
    "in this case, shining light at dirt and carefully measuring how much bounces back.\n",
    "To get a spectrum, we shine light of a single frequency at a time.\n",
    "\n",
    "Unfortunately, the relationship between spectrum and chemical content is\n",
    "[very complicated](https://chem.libretexts.org/Core/Physical_and_Theoretical_Chemistry/Spectroscopy/Vibrational_Spectroscopy/Infrared_Spectroscopy/Infrared%3A_Interpretation),\n",
    "especially if we want to know the concentration\n",
    "of a substance,\n",
    "rather than just testing for its presence or absence.\n",
    "\n",
    "This is an excellent application for machine learning:\n",
    "we have a collection of data\n",
    "that we know contains the information we want,\n",
    "and it has been labeled according to gold standard methods."
   ]
  },
  {
   "cell_type": "markdown",
   "metadata": {},
   "source": [
    "## The Data"
   ]
  },
  {
   "cell_type": "markdown",
   "metadata": {},
   "source": [
    "The dataset comprises the\n",
    "[infrared absorption spectra](https://en.wikipedia.org/wiki/Infrared_spectroscopy)\n",
    "of over 1000 soil samples from multiple biomes across Africa\n",
    "taken by the\n",
    "[African Soil Information Service](http://africasoils.net/).\n",
    "\n",
    "The cells below load up the spectra and the target values and store them in two pandas dataframes called `X` and `y`, as is tradition."
   ]
  },
  {
   "cell_type": "code",
   "execution_count": 3,
   "metadata": {},
   "outputs": [
    {
     "data": {
      "text/html": [
       "<div>\n",
       "<style>\n",
       "    .dataframe thead tr:only-child th {\n",
       "        text-align: right;\n",
       "    }\n",
       "\n",
       "    .dataframe thead th {\n",
       "        text-align: left;\n",
       "    }\n",
       "\n",
       "    .dataframe tbody tr th {\n",
       "        vertical-align: top;\n",
       "    }\n",
       "</style>\n",
       "<table border=\"1\" class=\"dataframe\">\n",
       "  <thead>\n",
       "    <tr style=\"text-align: right;\">\n",
       "      <th></th>\n",
       "      <th>7497.96</th>\n",
       "      <th>7496.04</th>\n",
       "      <th>7494.11</th>\n",
       "      <th>7492.18</th>\n",
       "      <th>7490.25</th>\n",
       "      <th>7488.32</th>\n",
       "      <th>7486.39</th>\n",
       "      <th>7484.46</th>\n",
       "      <th>7482.54</th>\n",
       "      <th>7480.61</th>\n",
       "      <th>...</th>\n",
       "      <th>617.116</th>\n",
       "      <th>615.188</th>\n",
       "      <th>613.259</th>\n",
       "      <th>611.331</th>\n",
       "      <th>609.402</th>\n",
       "      <th>607.474</th>\n",
       "      <th>605.545</th>\n",
       "      <th>603.617</th>\n",
       "      <th>601.688</th>\n",
       "      <th>599.76</th>\n",
       "    </tr>\n",
       "  </thead>\n",
       "  <tbody>\n",
       "    <tr>\n",
       "      <th>0</th>\n",
       "      <td>0.302553</td>\n",
       "      <td>0.301137</td>\n",
       "      <td>0.299748</td>\n",
       "      <td>0.300354</td>\n",
       "      <td>0.302679</td>\n",
       "      <td>0.303799</td>\n",
       "      <td>0.301702</td>\n",
       "      <td>0.298936</td>\n",
       "      <td>0.298126</td>\n",
       "      <td>0.298120</td>\n",
       "      <td>...</td>\n",
       "      <td>1.86431</td>\n",
       "      <td>1.84816</td>\n",
       "      <td>1.83288</td>\n",
       "      <td>1.81858</td>\n",
       "      <td>1.80247</td>\n",
       "      <td>1.78462</td>\n",
       "      <td>1.76644</td>\n",
       "      <td>1.75086</td>\n",
       "      <td>1.74335</td>\n",
       "      <td>1.74246</td>\n",
       "    </tr>\n",
       "    <tr>\n",
       "      <th>1</th>\n",
       "      <td>0.270192</td>\n",
       "      <td>0.268555</td>\n",
       "      <td>0.266964</td>\n",
       "      <td>0.267938</td>\n",
       "      <td>0.271013</td>\n",
       "      <td>0.272346</td>\n",
       "      <td>0.269870</td>\n",
       "      <td>0.266976</td>\n",
       "      <td>0.266544</td>\n",
       "      <td>0.266766</td>\n",
       "      <td>...</td>\n",
       "      <td>1.91071</td>\n",
       "      <td>1.89728</td>\n",
       "      <td>1.88298</td>\n",
       "      <td>1.86131</td>\n",
       "      <td>1.83355</td>\n",
       "      <td>1.80581</td>\n",
       "      <td>1.78410</td>\n",
       "      <td>1.77195</td>\n",
       "      <td>1.76479</td>\n",
       "      <td>1.75437</td>\n",
       "    </tr>\n",
       "    <tr>\n",
       "      <th>2</th>\n",
       "      <td>0.317433</td>\n",
       "      <td>0.316265</td>\n",
       "      <td>0.314948</td>\n",
       "      <td>0.315224</td>\n",
       "      <td>0.316942</td>\n",
       "      <td>0.317764</td>\n",
       "      <td>0.316067</td>\n",
       "      <td>0.313874</td>\n",
       "      <td>0.313301</td>\n",
       "      <td>0.313296</td>\n",
       "      <td>...</td>\n",
       "      <td>1.77356</td>\n",
       "      <td>1.76544</td>\n",
       "      <td>1.76124</td>\n",
       "      <td>1.75742</td>\n",
       "      <td>1.75113</td>\n",
       "      <td>1.74128</td>\n",
       "      <td>1.72894</td>\n",
       "      <td>1.71991</td>\n",
       "      <td>1.71562</td>\n",
       "      <td>1.71158</td>\n",
       "    </tr>\n",
       "    <tr>\n",
       "      <th>3</th>\n",
       "      <td>0.261116</td>\n",
       "      <td>0.259767</td>\n",
       "      <td>0.258384</td>\n",
       "      <td>0.259001</td>\n",
       "      <td>0.261310</td>\n",
       "      <td>0.262417</td>\n",
       "      <td>0.260534</td>\n",
       "      <td>0.258039</td>\n",
       "      <td>0.257246</td>\n",
       "      <td>0.257124</td>\n",
       "      <td>...</td>\n",
       "      <td>1.73527</td>\n",
       "      <td>1.72770</td>\n",
       "      <td>1.72349</td>\n",
       "      <td>1.72149</td>\n",
       "      <td>1.71630</td>\n",
       "      <td>1.70737</td>\n",
       "      <td>1.69952</td>\n",
       "      <td>1.69356</td>\n",
       "      <td>1.68812</td>\n",
       "      <td>1.68178</td>\n",
       "    </tr>\n",
       "    <tr>\n",
       "      <th>4</th>\n",
       "      <td>0.260038</td>\n",
       "      <td>0.258425</td>\n",
       "      <td>0.256544</td>\n",
       "      <td>0.257030</td>\n",
       "      <td>0.259602</td>\n",
       "      <td>0.260786</td>\n",
       "      <td>0.258717</td>\n",
       "      <td>0.256352</td>\n",
       "      <td>0.255902</td>\n",
       "      <td>0.255822</td>\n",
       "      <td>...</td>\n",
       "      <td>1.72088</td>\n",
       "      <td>1.70944</td>\n",
       "      <td>1.69711</td>\n",
       "      <td>1.68257</td>\n",
       "      <td>1.66762</td>\n",
       "      <td>1.65639</td>\n",
       "      <td>1.64929</td>\n",
       "      <td>1.64089</td>\n",
       "      <td>1.62805</td>\n",
       "      <td>1.61643</td>\n",
       "    </tr>\n",
       "  </tbody>\n",
       "</table>\n",
       "<p>5 rows × 3578 columns</p>\n",
       "</div>"
      ],
      "text/plain": [
       "    7497.96   7496.04   7494.11   7492.18   7490.25   7488.32   7486.39  \\\n",
       "0  0.302553  0.301137  0.299748  0.300354  0.302679  0.303799  0.301702   \n",
       "1  0.270192  0.268555  0.266964  0.267938  0.271013  0.272346  0.269870   \n",
       "2  0.317433  0.316265  0.314948  0.315224  0.316942  0.317764  0.316067   \n",
       "3  0.261116  0.259767  0.258384  0.259001  0.261310  0.262417  0.260534   \n",
       "4  0.260038  0.258425  0.256544  0.257030  0.259602  0.260786  0.258717   \n",
       "\n",
       "    7484.46   7482.54   7480.61   ...     617.116  615.188  613.259  611.331  \\\n",
       "0  0.298936  0.298126  0.298120   ...     1.86431  1.84816  1.83288  1.81858   \n",
       "1  0.266976  0.266544  0.266766   ...     1.91071  1.89728  1.88298  1.86131   \n",
       "2  0.313874  0.313301  0.313296   ...     1.77356  1.76544  1.76124  1.75742   \n",
       "3  0.258039  0.257246  0.257124   ...     1.73527  1.72770  1.72349  1.72149   \n",
       "4  0.256352  0.255902  0.255822   ...     1.72088  1.70944  1.69711  1.68257   \n",
       "\n",
       "   609.402  607.474  605.545  603.617  601.688   599.76  \n",
       "0  1.80247  1.78462  1.76644  1.75086  1.74335  1.74246  \n",
       "1  1.83355  1.80581  1.78410  1.77195  1.76479  1.75437  \n",
       "2  1.75113  1.74128  1.72894  1.71991  1.71562  1.71158  \n",
       "3  1.71630  1.70737  1.69952  1.69356  1.68812  1.68178  \n",
       "4  1.66762  1.65639  1.64929  1.64089  1.62805  1.61643  \n",
       "\n",
       "[5 rows x 3578 columns]"
      ]
     },
     "execution_count": 3,
     "metadata": {},
     "output_type": "execute_result"
    }
   ],
   "source": [
    "X, y = load_training_spectra('./data/training.csv')\n",
    "X.head()"
   ]
  },
  {
   "cell_type": "markdown",
   "metadata": {},
   "source": [
    "It's important to take a look at your data before you start applying models.\n",
    "\n",
    "The cells below select a spectrum at random from `X` and plot it."
   ]
  },
  {
   "cell_type": "code",
   "execution_count": 4,
   "metadata": {},
   "outputs": [
    {
     "data": {
      "text/html": [
       "<div>\n",
       "<style>\n",
       "    .dataframe thead tr:only-child th {\n",
       "        text-align: right;\n",
       "    }\n",
       "\n",
       "    .dataframe thead th {\n",
       "        text-align: left;\n",
       "    }\n",
       "\n",
       "    .dataframe tbody tr th {\n",
       "        vertical-align: top;\n",
       "    }\n",
       "</style>\n",
       "<table border=\"1\" class=\"dataframe\">\n",
       "  <thead>\n",
       "    <tr style=\"text-align: right;\">\n",
       "      <th></th>\n",
       "      <th>7497.96</th>\n",
       "      <th>7496.04</th>\n",
       "      <th>7494.11</th>\n",
       "      <th>7492.18</th>\n",
       "      <th>7490.25</th>\n",
       "      <th>7488.32</th>\n",
       "      <th>7486.39</th>\n",
       "      <th>7484.46</th>\n",
       "      <th>7482.54</th>\n",
       "      <th>7480.61</th>\n",
       "      <th>...</th>\n",
       "      <th>617.116</th>\n",
       "      <th>615.188</th>\n",
       "      <th>613.259</th>\n",
       "      <th>611.331</th>\n",
       "      <th>609.402</th>\n",
       "      <th>607.474</th>\n",
       "      <th>605.545</th>\n",
       "      <th>603.617</th>\n",
       "      <th>601.688</th>\n",
       "      <th>599.76</th>\n",
       "    </tr>\n",
       "  </thead>\n",
       "  <tbody>\n",
       "    <tr>\n",
       "      <th>285</th>\n",
       "      <td>0.237578</td>\n",
       "      <td>0.2331</td>\n",
       "      <td>0.228753</td>\n",
       "      <td>0.231179</td>\n",
       "      <td>0.23912</td>\n",
       "      <td>0.242682</td>\n",
       "      <td>0.236398</td>\n",
       "      <td>0.228728</td>\n",
       "      <td>0.226574</td>\n",
       "      <td>0.22603</td>\n",
       "      <td>...</td>\n",
       "      <td>1.54057</td>\n",
       "      <td>1.53804</td>\n",
       "      <td>1.53303</td>\n",
       "      <td>1.52287</td>\n",
       "      <td>1.50732</td>\n",
       "      <td>1.48888</td>\n",
       "      <td>1.47074</td>\n",
       "      <td>1.45439</td>\n",
       "      <td>1.43989</td>\n",
       "      <td>1.42609</td>\n",
       "    </tr>\n",
       "  </tbody>\n",
       "</table>\n",
       "<p>1 rows × 3578 columns</p>\n",
       "</div>"
      ],
      "text/plain": [
       "      7497.96  7496.04   7494.11   7492.18  7490.25   7488.32   7486.39  \\\n",
       "285  0.237578   0.2331  0.228753  0.231179  0.23912  0.242682  0.236398   \n",
       "\n",
       "      7484.46   7482.54  7480.61   ...     617.116  615.188  613.259  611.331  \\\n",
       "285  0.228728  0.226574  0.22603   ...     1.54057  1.53804  1.53303  1.52287   \n",
       "\n",
       "     609.402  607.474  605.545  603.617  601.688   599.76  \n",
       "285  1.50732  1.48888  1.47074  1.45439  1.43989  1.42609  \n",
       "\n",
       "[1 rows x 3578 columns]"
      ]
     },
     "execution_count": 4,
     "metadata": {},
     "output_type": "execute_result"
    }
   ],
   "source": [
    "random_spectrum = X.sample()\n",
    "random_spectrum"
   ]
  },
  {
   "cell_type": "code",
   "execution_count": 5,
   "metadata": {},
   "outputs": [
    {
     "data": {
      "image/png": "[encoded data removed]",
      "text/plain": [
       "<matplotlib.figure.Figure at 0x116196f28>"
      ]
     },
     "metadata": {},
     "output_type": "display_data"
    }
   ],
   "source": [
    "spectrum_as_series = random_spectrum.iloc[0]\n",
    "wavenumbers = X.columns\n",
    "spectrum_array = spectrum_as_series.as_matrix()\n",
    "numericID = spectrum_as_series.name\n",
    "\n",
    "plt.figure(figsize=(16,4))\n",
    "plt.plot(wavenumbers,spectrum_array); plt.title('Spectrum #'+str(numericID), \n",
    "                                    fontweight='bold',fontsize='xx-large');\n",
    "plt.xlabel('wavenumber',fontweight='bold',fontsize='x-large');\n",
    "plt.ylabel('measurement',fontweight='bold',fontsize='x-large');"
   ]
  },
  {
   "cell_type": "markdown",
   "metadata": {},
   "source": [
    "For some more basic visualizations of the data, check out our\n",
    "[data visualization notebook](notebooks/00_A - Exploring and Visualizing Data.ipynb).\n",
    "\n",
    "It's important to dive deep and design specific data visualization tools\n",
    "for the problem at hand -- every dataset is different!\n",
    "To see some more advanced interactive visualizations,\n",
    "check out our\n",
    "[interactive visualization notebook](notebooks/00_B - Interactive Data Visualisations.ipynb).\n",
    "\n",
    "Some insight can also be gained into datasets by examining related information.\n",
    "For example, our soil samples come from different regions,\n",
    "which have distinct patterns of rainfall, exposures to wind patterns, etc.\n",
    "In a business context, these can help you determine the failure patterns of your model.\n",
    "In a science context, these related pieces of information can help you\n",
    "transfer insight into new domains or predict new phenomena.\n",
    "For an example of how to visualize and manipulate geographic data,\n",
    "which is particularly important for this dataset,\n",
    "check out our\n",
    "[geographic data visualization notebook](notebooks/00_C - Visualizing Geo Data.ipynb)"
   ]
  },
  {
   "cell_type": "markdown",
   "metadata": {},
   "source": [
    "## Data Pre-Processing"
   ]
  },
  {
   "cell_type": "markdown",
   "metadata": {},
   "source": [
    "Absorption was measured at over 3,000 wavelengths,\n",
    "resuling in very rich data vectors.\n",
    "This richness comes at a price.\n",
    "\n",
    "Though we have 3,000 dimensional inputs,\n",
    "we have only 1,000 data vectors.\n",
    "For some models, like\n",
    "[linear regression](link)\n",
    "this will lead to\n",
    "*over-fitting* -\n",
    "a model that predicts\n",
    "soil properties for previously-seen samples\n",
    "extremely well,\n",
    "but fails to predict soil properties accurately\n",
    "for samples it has never seen before.\n",
    "\n",
    "For tree-based models, like\n",
    "[gradient-boosted trees](./notebooks/05_A - Gradient Boosted Regression Trees - Single Target.ipynb),\n",
    "having many individually uninformative input dimensions\n",
    "reduces performance.\n",
    "\n",
    "And for all models, but especially\n",
    "[support vector methods](./notebooks/06 - Support Vector Regression.ipynb)\n",
    "and\n",
    "[neural networks](./notebooks/04_A - Neural Network Regression.ipynb),\n",
    "more input dimensions\n",
    "means more time spent training."
   ]
  },
  {
   "cell_type": "markdown",
   "metadata": {},
   "source": [
    "We could resolve this by smoothing and down-sampling,\n",
    "but many of the spectra contain sharp,\n",
    "precisely-located peaks\n",
    "that we'd rather not smooth over.\n",
    "\n",
    "Instead, we use\n",
    "[Principal Components Analysis](notebooks/02_A - Dimensionality Reduction with PCA.ipynb),\n",
    "or PCA,\n",
    "to reduce the size of our data vectors\n",
    "while trying to retain as much information as possible."
   ]
  },
  {
   "cell_type": "code",
   "execution_count": 6,
   "metadata": {
    "collapsed": true
   },
   "outputs": [],
   "source": [
    "PCA_transform = sklearn.decomposition.PCA(n_components=100)"
   ]
  },
  {
   "cell_type": "markdown",
   "metadata": {},
   "source": [
    "## Models"
   ]
  },
  {
   "cell_type": "markdown",
   "metadata": {},
   "source": [
    "#### Linear Regression"
   ]
  },
  {
   "cell_type": "markdown",
   "metadata": {},
   "source": [
    "Linear regression is the most commonly used regression method, and it's a good place to start here: it's easy to fit, easy to interpret, and works surprisingly well. We'll use it as a baseline for comparing the performance across models.\n",
    "\n",
    "Because we have many more measurements per data point than data points, linear regression overfits the data it's trained on and doesn't generalize well to data it hasn't seen. We found that reducing the data to fewer dimensions before fitting the linear model improved the performance, but it didn't do as well as some of the other models."
   ]
  },
  {
   "cell_type": "code",
   "execution_count": 7,
   "metadata": {
    "collapsed": true
   },
   "outputs": [],
   "source": [
    "linear_model = sklearn.linear_model.LinearRegression()"
   ]
  },
  {
   "cell_type": "markdown",
   "metadata": {},
   "source": [
    "#### Neural Network"
   ]
  },
  {
   "cell_type": "markdown",
   "metadata": {},
   "source": [
    "The resurgence of\n",
    "[neural networks](notebooks/04_A - Neural Network Regression.ipynb)\n",
    "is one of the most exciting new developments\n",
    "in machine learning in the past decade,\n",
    "finding applications as diverse as\n",
    "[beating human beings at Go](https://www.blog.google/topics/machine-learning/what-we-learned-in-seoul-with-alphago/),\n",
    "[creating visual art](https://deepart.io/),\n",
    "and\n",
    "[operating autonomous vehicles](https://blogs.nvidia.com/blog/2016/05/06/self-driving-cars-3/).\n",
    "\n",
    "Neural networks perform best in situations\n",
    "with large datasets of very rich, structured data vectors\n",
    "composed of many individually-uninformative dimensions.\n",
    "However, we were still able to get decent performance\n",
    "on this smaller dataset by\n",
    "[carefully tuning hyperparameters](notebooks/04_B - GridSearchCV for Neural Networks.ipynb)."
   ]
  },
  {
   "cell_type": "code",
   "execution_count": 8,
   "metadata": {
    "collapsed": true
   },
   "outputs": [],
   "source": [
    "neural_network = sklearn.neural_network.MLPRegressor(activation = 'relu',\n",
    "                                                     alpha = 0.0001,\n",
    "                                                     batch_size = 16,\n",
    "                                                     beta_1 = 0.9,\n",
    "                                                     beta_2= 0.99,\n",
    "                                                     early_stopping = False,\n",
    "                                                     hidden_layer_sizes = 100,\n",
    "                                                     learning_rate_init = 0.0001,\n",
    "                                                     max_iter = 10000,\n",
    "                                                     tol = 1e-16)"
   ]
  },
  {
   "cell_type": "markdown",
   "metadata": {},
   "source": [
    "#### Gradient-Boosted Trees"
   ]
  },
  {
   "cell_type": "markdown",
   "metadata": {},
   "source": [
    "[Gradient Boosted Trees](notebooks/05_A - Gradient Boosted Regression Trees - Single Target.ipynb) \n",
    "are a tree ensemble method that\n",
    "combines decision trees with the\n",
    "optimization principles of gradient\n",
    "descent.  Trees are built in an iterative\n",
    "process, with each stage hoping to be a \n",
    "correction based on the residuals of the\n",
    "previous tree.\n",
    "\n",
    "Grading Boosting Regression Trees can see\n",
    "performance improvements from finding an\n",
    "optimal set of model hyperparameters.  Here we used\n",
    "Randomized Search Cross-Validation to effectively\n",
    "sweep the hyperparameter space.\n",
    "\n",
    "Gradient boosting machines are probaly most\n",
    "known in their use for web search ranking, but \n",
    "they are actually a popular choice for a wide\n",
    "variety of learning problems.  They are robust\n",
    "to heterogeneous features and can detect\n",
    "complex feature interactions.\n"
   ]
  },
  {
   "cell_type": "code",
   "execution_count": 9,
   "metadata": {
    "collapsed": true
   },
   "outputs": [],
   "source": [
    "num_outputs = y.shape[1]\n",
    "\n",
    "GBR_models = [sklearn.ensemble.GradientBoostingRegressor(n_estimators=5000,\n",
    "                                                    max_depth=3,\n",
    "                                                    min_samples_split=10,\n",
    "                                                    min_samples_leaf=3,\n",
    "                                                    max_features=0.8,\n",
    "                                                    learning_rate=0.005)\n",
    "                                              for _ in range(num_outputs)]"
   ]
  },
  {
   "cell_type": "markdown",
   "metadata": {},
   "source": [
    "#### Support Vector Machine"
   ]
  },
  {
   "cell_type": "markdown",
   "metadata": {},
   "source": [
    "[Support Vector Machines](notebooks/06 - Support Vector Regression.ipynb)\n",
    "are a core component of the machine learning toolkit,\n",
    "but they are primarily used for\n",
    "classification tasks,\n",
    "where the output is a label,\n",
    "rather than regression tasks like this one,\n",
    "where the outputs are numbers.\n",
    "\n",
    "Additionally,\n",
    "like gradient boosted trees,\n",
    "support vector regression models\n",
    "can only predict a single output,\n",
    "rather than multiple outputs.\n",
    "This meant that we had to train one model\n",
    "for calcium content,\n",
    "one for pH,\n",
    "and so on.\n",
    "\n",
    "Despite this handicap,\n",
    "[by tuning hyperparameters](notebooks/06 - Support Vector Regression.ipynb)\n",
    "we were able to get good performance\n",
    "from our ensemble of support vector machines."
   ]
  },
  {
   "cell_type": "code",
   "execution_count": 10,
   "metadata": {
    "collapsed": true
   },
   "outputs": [],
   "source": [
    "num_outputs = y.shape[1]\n",
    "\n",
    "C = 100; epsilon=1e-1; gamma=1e-2;\n",
    "SVR_models = [sklearn.svm.SVR(kernel='rbf',\n",
    "                            C=C, epsilon=epsilon, gamma=gamma) for _ in range(num_outputs)]"
   ]
  },
  {
   "cell_type": "markdown",
   "metadata": {},
   "source": [
    "### Model Comparison"
   ]
  },
  {
   "cell_type": "markdown",
   "metadata": {},
   "source": [
    "We compare our models by running random-split\n",
    "[cross-validation](notebooks/01 - Cross Validation Primer.ipynb).\n",
    "We get out two metrics:\n",
    "the *training score*,\n",
    "which tells us how well the model\n",
    "can predict the soil properties\n",
    "for spectra it has seen before,\n",
    "and\n",
    "the *test score*,\n",
    "which estimates how well the model\n",
    "will predict the soil properties\n",
    "for novel spectra."
   ]
  },
  {
   "cell_type": "code",
   "execution_count": 11,
   "metadata": {
    "collapsed": true
   },
   "outputs": [],
   "source": [
    "models = [linear_model, neural_network, GBR_models, SVR_models]\n",
    "model_names = ['Linear Model', 'Neural Network',\n",
    "              'Gradient-Boosted Trees', 'Support Vector Machine']\n",
    "\n",
    "num_splits = 20"
   ]
  },
  {
   "cell_type": "code",
   "execution_count": 12,
   "metadata": {
    "collapsed": true
   },
   "outputs": [],
   "source": [
    "train_scores, test_scores = compare_models(\n",
    "                            models, model_names, PCA_transform,\n",
    "                                X, y, num_splits=num_splits)"
   ]
  },
  {
   "cell_type": "code",
   "execution_count": 13,
   "metadata": {},
   "outputs": [
    {
     "data": {
      "image/png": "[encoded data removed]",
      "text/plain": [
       "<matplotlib.figure.Figure at 0x11613c908>"
      ]
     },
     "metadata": {},
     "output_type": "display_data"
    }
   ],
   "source": [
    "comparison_plot(model_names, train_scores, test_scores)"
   ]
  },
  {
   "cell_type": "markdown",
   "metadata": {},
   "source": [
    "Error bars are ± standard deviation."
   ]
  },
  {
   "cell_type": "markdown",
   "metadata": {},
   "source": [
    "## Conclusions"
   ]
  },
  {
   "cell_type": "markdown",
   "metadata": {},
   "source": [
    "We were able to achieve performance in the top 10% of Kaggle competitors\n",
    "with two methods:\n",
    "neural networks\n",
    "and\n",
    "support vector machines.\n",
    "Considering that the winning methods\n",
    "used ensembles of up to hundreds of models,\n",
    "this performance is quite good.\n",
    "\n",
    "The performance of the linear model\n",
    "was actually quite good --\n",
    "a linear model is capable of explaining around 70% of the variance,\n",
    "occasionally out-performing the more sophisticated models.\n",
    "Since linear models are far more interpretable than the other models,\n",
    "it's likely that, in a business setting,\n",
    "we'd opt for the simple linear model.\n",
    "\n",
    "We were unable to get good performance from the gradient-boosted trees.\n",
    "Tree-based models are better known for their good performance on classification tasks\n",
    "on collections of individually-relevant features,\n",
    "so perhaps this poor performance is to be expected.\n",
    "The winning methods on Kaggle\n",
    "primarily used non-tree methods."
   ]
  }
 ],
 "metadata": {
  "kernelspec": {
   "display_name": "Python 3",
   "language": "python",
   "name": "python3"
  },
  "language_info": {
   "codemirror_mode": {
    "name": "ipython",
    "version": 3
   },
   "file_extension": ".py",
   "mimetype": "text/x-python",
   "name": "python",
   "nbconvert_exporter": "python",
   "pygments_lexer": "ipython3",
   "version": "3.6.1"
  }
 },
 "nbformat": 4,
 "nbformat_minor": 2
}
